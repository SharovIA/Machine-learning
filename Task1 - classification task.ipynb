{
 "cells": [
  {
   "cell_type": "code",
   "execution_count": 145,
   "metadata": {},
   "outputs": [],
   "source": [
    "import numpy as np              # Массивы (матрицы, векторы, линейная алгебра)\n",
    "import matplotlib.pyplot as plt # Научная графика\n",
    "%matplotlib inline \n",
    "import pandas as pd             # Таблицы и временные ряды (dataframe, series)\n",
    "import seaborn as sns           # Еще больше красивой графики для визуализации данных\n",
    "import sklearn                  # Алгоритмы машинного обучения"
   ]
  },
  {
   "cell_type": "markdown",
   "metadata": {},
   "source": [
    "# Оценка проведенных транзакций.\n"
   ]
  },
  {
   "cell_type": "markdown",
   "metadata": {},
   "source": [
    "# 1. Загрузка данных"
   ]
  },
  {
   "cell_type": "code",
   "execution_count": 146,
   "metadata": {},
   "outputs": [],
   "source": [
    "url = \"https://archive.ics.uci.edu/ml/machine-learning-databases/00502/online_retail_II.xlsx\"\n",
    "data= pd.read_excel(url, sheet_name=\"Year 2009-2010\")"
   ]
  },
  {
   "cell_type": "markdown",
   "metadata": {},
   "source": [
    "Таблица содержит данные о более миллиона транзакций, произошедших и зарегистрированных в онлайн-розничной торговле в Великобритании, не связанной с магазинами, в период с 01.12.2009 по 09.12.2010. \n",
    "Для каждой транзакции указаны ее номер счета (если он начинается с буквы «c», это означает отмену транзакции), код товара (позиции), название товара (предмета), количество каждого продукта (позиции) за транзакцию, дата и время поступления, цена за единицу (в фунтах стерлингов), номер клиента (однозначно присваиваемое каждому покупателю) и название страны, в которой проживает покупатель.\n",
    "\n",
    "Вначале посмотрим на размеры таблицы - количество строк (каждая строка соответствует одной транзакции) и количество столбцов (каждый столбец соответствует конкретному признаку):"
   ]
  },
  {
   "cell_type": "code",
   "execution_count": 147,
   "metadata": {},
   "outputs": [
    {
     "data": {
      "text/plain": [
       "(525461, 8)"
      ]
     },
     "execution_count": 147,
     "metadata": {},
     "output_type": "execute_result"
    }
   ],
   "source": [
    "data.shape"
   ]
  },
  {
   "cell_type": "markdown",
   "metadata": {},
   "source": [
    "Даже за один год данных слишком много. Возьмем первые 10 000 записей. (Вы сказали, что желательно не обрезать, а случайно взять. Однако в таком случае у меня нет гарантии, что попадутся оба класса. В противном случае классифицировать будет нечего.) Пробовал и миллион, и 100 000 - для ноутбука слишком (= "
   ]
  },
  {
   "cell_type": "code",
   "execution_count": 148,
   "metadata": {},
   "outputs": [],
   "source": [
    "data = data.drop(data.index[10000:])"
   ]
  },
  {
   "cell_type": "code",
   "execution_count": 149,
   "metadata": {},
   "outputs": [
    {
     "data": {
      "text/plain": [
       "(10000, 8)"
      ]
     },
     "execution_count": 149,
     "metadata": {},
     "output_type": "execute_result"
    }
   ],
   "source": [
    "data.shape"
   ]
  },
  {
   "cell_type": "markdown",
   "metadata": {},
   "source": [
    "Отобразим первые строки таблицы:"
   ]
  },
  {
   "cell_type": "code",
   "execution_count": 150,
   "metadata": {},
   "outputs": [
    {
     "data": {
      "text/html": [
       "<div>\n",
       "<style scoped>\n",
       "    .dataframe tbody tr th:only-of-type {\n",
       "        vertical-align: middle;\n",
       "    }\n",
       "\n",
       "    .dataframe tbody tr th {\n",
       "        vertical-align: top;\n",
       "    }\n",
       "\n",
       "    .dataframe thead th {\n",
       "        text-align: right;\n",
       "    }\n",
       "</style>\n",
       "<table border=\"1\" class=\"dataframe\">\n",
       "  <thead>\n",
       "    <tr style=\"text-align: right;\">\n",
       "      <th></th>\n",
       "      <th>Invoice</th>\n",
       "      <th>StockCode</th>\n",
       "      <th>Description</th>\n",
       "      <th>Quantity</th>\n",
       "      <th>InvoiceDate</th>\n",
       "      <th>Price</th>\n",
       "      <th>Customer ID</th>\n",
       "      <th>Country</th>\n",
       "    </tr>\n",
       "  </thead>\n",
       "  <tbody>\n",
       "    <tr>\n",
       "      <th>0</th>\n",
       "      <td>489434</td>\n",
       "      <td>85048</td>\n",
       "      <td>15CM CHRISTMAS GLASS BALL 20 LIGHTS</td>\n",
       "      <td>12</td>\n",
       "      <td>2009-12-01 07:45:00</td>\n",
       "      <td>6.95</td>\n",
       "      <td>13085.0</td>\n",
       "      <td>United Kingdom</td>\n",
       "    </tr>\n",
       "    <tr>\n",
       "      <th>1</th>\n",
       "      <td>489434</td>\n",
       "      <td>79323P</td>\n",
       "      <td>PINK CHERRY LIGHTS</td>\n",
       "      <td>12</td>\n",
       "      <td>2009-12-01 07:45:00</td>\n",
       "      <td>6.75</td>\n",
       "      <td>13085.0</td>\n",
       "      <td>United Kingdom</td>\n",
       "    </tr>\n",
       "    <tr>\n",
       "      <th>2</th>\n",
       "      <td>489434</td>\n",
       "      <td>79323W</td>\n",
       "      <td>WHITE CHERRY LIGHTS</td>\n",
       "      <td>12</td>\n",
       "      <td>2009-12-01 07:45:00</td>\n",
       "      <td>6.75</td>\n",
       "      <td>13085.0</td>\n",
       "      <td>United Kingdom</td>\n",
       "    </tr>\n",
       "    <tr>\n",
       "      <th>3</th>\n",
       "      <td>489434</td>\n",
       "      <td>22041</td>\n",
       "      <td>RECORD FRAME 7\" SINGLE SIZE</td>\n",
       "      <td>48</td>\n",
       "      <td>2009-12-01 07:45:00</td>\n",
       "      <td>2.10</td>\n",
       "      <td>13085.0</td>\n",
       "      <td>United Kingdom</td>\n",
       "    </tr>\n",
       "    <tr>\n",
       "      <th>4</th>\n",
       "      <td>489434</td>\n",
       "      <td>21232</td>\n",
       "      <td>STRAWBERRY CERAMIC TRINKET BOX</td>\n",
       "      <td>24</td>\n",
       "      <td>2009-12-01 07:45:00</td>\n",
       "      <td>1.25</td>\n",
       "      <td>13085.0</td>\n",
       "      <td>United Kingdom</td>\n",
       "    </tr>\n",
       "  </tbody>\n",
       "</table>\n",
       "</div>"
      ],
      "text/plain": [
       "  Invoice StockCode                          Description  Quantity  \\\n",
       "0  489434     85048  15CM CHRISTMAS GLASS BALL 20 LIGHTS        12   \n",
       "1  489434    79323P                   PINK CHERRY LIGHTS        12   \n",
       "2  489434    79323W                  WHITE CHERRY LIGHTS        12   \n",
       "3  489434     22041         RECORD FRAME 7\" SINGLE SIZE         48   \n",
       "4  489434     21232       STRAWBERRY CERAMIC TRINKET BOX        24   \n",
       "\n",
       "          InvoiceDate  Price  Customer ID         Country  \n",
       "0 2009-12-01 07:45:00   6.95      13085.0  United Kingdom  \n",
       "1 2009-12-01 07:45:00   6.75      13085.0  United Kingdom  \n",
       "2 2009-12-01 07:45:00   6.75      13085.0  United Kingdom  \n",
       "3 2009-12-01 07:45:00   2.10      13085.0  United Kingdom  \n",
       "4 2009-12-01 07:45:00   1.25      13085.0  United Kingdom  "
      ]
     },
     "execution_count": 150,
     "metadata": {},
     "output_type": "execute_result"
    }
   ],
   "source": [
    "data.head()"
   ]
  },
  {
   "cell_type": "markdown",
   "metadata": {},
   "source": [
    "А вот последние строки:"
   ]
  },
  {
   "cell_type": "code",
   "execution_count": 151,
   "metadata": {},
   "outputs": [
    {
     "data": {
      "text/html": [
       "<div>\n",
       "<style scoped>\n",
       "    .dataframe tbody tr th:only-of-type {\n",
       "        vertical-align: middle;\n",
       "    }\n",
       "\n",
       "    .dataframe tbody tr th {\n",
       "        vertical-align: top;\n",
       "    }\n",
       "\n",
       "    .dataframe thead th {\n",
       "        text-align: right;\n",
       "    }\n",
       "</style>\n",
       "<table border=\"1\" class=\"dataframe\">\n",
       "  <thead>\n",
       "    <tr style=\"text-align: right;\">\n",
       "      <th></th>\n",
       "      <th>Invoice</th>\n",
       "      <th>StockCode</th>\n",
       "      <th>Description</th>\n",
       "      <th>Quantity</th>\n",
       "      <th>InvoiceDate</th>\n",
       "      <th>Price</th>\n",
       "      <th>Customer ID</th>\n",
       "      <th>Country</th>\n",
       "    </tr>\n",
       "  </thead>\n",
       "  <tbody>\n",
       "    <tr>\n",
       "      <th>9995</th>\n",
       "      <td>490149</td>\n",
       "      <td>21191</td>\n",
       "      <td>LARGE WHITE HONEYCOMB PAPER BELL</td>\n",
       "      <td>2</td>\n",
       "      <td>2009-12-04 09:43:00</td>\n",
       "      <td>4.30</td>\n",
       "      <td>NaN</td>\n",
       "      <td>United Kingdom</td>\n",
       "    </tr>\n",
       "    <tr>\n",
       "      <th>9996</th>\n",
       "      <td>490149</td>\n",
       "      <td>21192</td>\n",
       "      <td>WHITE BELL HONEYCOMB PAPER</td>\n",
       "      <td>4</td>\n",
       "      <td>2009-12-04 09:43:00</td>\n",
       "      <td>3.43</td>\n",
       "      <td>NaN</td>\n",
       "      <td>United Kingdom</td>\n",
       "    </tr>\n",
       "    <tr>\n",
       "      <th>9997</th>\n",
       "      <td>490149</td>\n",
       "      <td>21210</td>\n",
       "      <td>SET OF 72 RETRO SPOT PAPER  DOILIES</td>\n",
       "      <td>3</td>\n",
       "      <td>2009-12-04 09:43:00</td>\n",
       "      <td>3.04</td>\n",
       "      <td>NaN</td>\n",
       "      <td>United Kingdom</td>\n",
       "    </tr>\n",
       "    <tr>\n",
       "      <th>9998</th>\n",
       "      <td>490149</td>\n",
       "      <td>21212</td>\n",
       "      <td>PACK OF 72 RETRO SPOT CAKE CASES</td>\n",
       "      <td>11</td>\n",
       "      <td>2009-12-04 09:43:00</td>\n",
       "      <td>1.30</td>\n",
       "      <td>NaN</td>\n",
       "      <td>United Kingdom</td>\n",
       "    </tr>\n",
       "    <tr>\n",
       "      <th>9999</th>\n",
       "      <td>490149</td>\n",
       "      <td>21213</td>\n",
       "      <td>PACK OF 72 SKULL CAKE CASES</td>\n",
       "      <td>2</td>\n",
       "      <td>2009-12-04 09:43:00</td>\n",
       "      <td>1.30</td>\n",
       "      <td>NaN</td>\n",
       "      <td>United Kingdom</td>\n",
       "    </tr>\n",
       "  </tbody>\n",
       "</table>\n",
       "</div>"
      ],
      "text/plain": [
       "     Invoice StockCode                          Description  Quantity  \\\n",
       "9995  490149     21191   LARGE WHITE HONEYCOMB PAPER BELL           2   \n",
       "9996  490149     21192          WHITE BELL HONEYCOMB PAPER          4   \n",
       "9997  490149     21210  SET OF 72 RETRO SPOT PAPER  DOILIES         3   \n",
       "9998  490149     21212     PACK OF 72 RETRO SPOT CAKE CASES        11   \n",
       "9999  490149     21213          PACK OF 72 SKULL CAKE CASES         2   \n",
       "\n",
       "             InvoiceDate  Price  Customer ID         Country  \n",
       "9995 2009-12-04 09:43:00   4.30          NaN  United Kingdom  \n",
       "9996 2009-12-04 09:43:00   3.43          NaN  United Kingdom  \n",
       "9997 2009-12-04 09:43:00   3.04          NaN  United Kingdom  \n",
       "9998 2009-12-04 09:43:00   1.30          NaN  United Kingdom  \n",
       "9999 2009-12-04 09:43:00   1.30          NaN  United Kingdom  "
      ]
     },
     "execution_count": 151,
     "metadata": {},
     "output_type": "execute_result"
    }
   ],
   "source": [
    "data.tail()"
   ]
  },
  {
   "cell_type": "markdown",
   "metadata": {},
   "source": [
    "Мы видим, что столбцы (признаки) имеют имена\n",
    "\n",
    "- `Invoice` - номер счёта. (6-значное целое число, однозначно присваиваемое каждой транзакции. Если этот код начинается с буквы «С», это означает отмену.)\n",
    "- `StockCode` - код товара (позиции).\n",
    "- `Description` - название товара (предмета).\n",
    "- `Quantity` - количество каждого продукта (позиции) за транзакцию.\n",
    "- `InvoiceDate` - дата и время создания транзакции.\n",
    "- `Price` - цена продукта за единицу в фунтах стерлингов (£).\n",
    "- `Customer ID` - номер клиента (число, однозначно присваиваемое каждому покупателю).\n",
    "- `Country` - название страны, в которой проживает покупатель.\n",
    "\n",
    "Признаки `Quantity`, `Price`- числовые, признак `InvoiceDate` представим ниже как числовой, остальные признаки номинальные (категориальные).\n",
    "\n",
    "Задача - определить, прошла ли транзакция или нет. Это *задача классификации*."
   ]
  },
  {
   "cell_type": "markdown",
   "metadata": {},
   "source": [
    "Имена столбцов (признаков) можно получить таким образом:"
   ]
  },
  {
   "cell_type": "code",
   "execution_count": 152,
   "metadata": {},
   "outputs": [
    {
     "data": {
      "text/plain": [
       "Index(['Invoice', 'StockCode', 'Description', 'Quantity', 'InvoiceDate',\n",
       "       'Price', 'Customer ID', 'Country'],\n",
       "      dtype='object')"
      ]
     },
     "execution_count": 152,
     "metadata": {},
     "output_type": "execute_result"
    }
   ],
   "source": [
    "data.columns"
   ]
  },
  {
   "cell_type": "markdown",
   "metadata": {},
   "source": [
    "Имена строк (совпадают с номерами):"
   ]
  },
  {
   "cell_type": "code",
   "execution_count": 153,
   "metadata": {},
   "outputs": [
    {
     "data": {
      "text/plain": [
       "Int64Index([   0,    1,    2,    3,    4,    5,    6,    7,    8,    9,\n",
       "            ...\n",
       "            9990, 9991, 9992, 9993, 9994, 9995, 9996, 9997, 9998, 9999],\n",
       "           dtype='int64', length=10000)"
      ]
     },
     "execution_count": 153,
     "metadata": {},
     "output_type": "execute_result"
    }
   ],
   "source": [
    "data.index"
   ]
  },
  {
   "cell_type": "markdown",
   "metadata": {},
   "source": [
    "Столбцы 'Invoice', 'StockCode', 'Description', 'Customer ID' и 'Country' содержат категориальные значения. Пока они имеют тип 'Object'. Заменим тип на специальный, предназначенный для хранения категориальных значений:"
   ]
  },
  {
   "cell_type": "code",
   "execution_count": 154,
   "metadata": {},
   "outputs": [
    {
     "data": {
      "text/plain": [
       "dtype('O')"
      ]
     },
     "execution_count": 154,
     "metadata": {},
     "output_type": "execute_result"
    }
   ],
   "source": [
    "data['Invoice'].dtype"
   ]
  },
  {
   "cell_type": "code",
   "execution_count": 155,
   "metadata": {},
   "outputs": [],
   "source": [
    "data['Invoice'] = data['Invoice'].astype('category')"
   ]
  },
  {
   "cell_type": "code",
   "execution_count": 156,
   "metadata": {},
   "outputs": [
    {
     "data": {
      "text/plain": [
       "CategoricalDtype(categories=[   489434,    489435,    489436,    489437,    489438,\n",
       "                     489439,    489440,    489441,    489442,    489443,\n",
       "                  ...\n",
       "                  'C490096', 'C490098', 'C490117', 'C490120', 'C490122',\n",
       "                  'C490126', 'C490129', 'C490131', 'C490133', 'C490148'],\n",
       "                 ordered=False)"
      ]
     },
     "execution_count": 156,
     "metadata": {},
     "output_type": "execute_result"
    }
   ],
   "source": [
    "data['Invoice'].dtype"
   ]
  },
  {
   "cell_type": "code",
   "execution_count": 157,
   "metadata": {},
   "outputs": [],
   "source": [
    "data['StockCode'] = data['StockCode'].astype('category')"
   ]
  },
  {
   "cell_type": "code",
   "execution_count": 158,
   "metadata": {},
   "outputs": [
    {
     "data": {
      "text/plain": [
       "CategoricalDtype(categories=[     10002,      10080,      10109,      10120,      10125,\n",
       "                       10133,      10134,      10135,      10138,      11001,\n",
       "                  ...\n",
       "                    '90214S',       'C2',        'D', 'DCGS0004', 'DCGS0058',\n",
       "                  'DCGS0068', 'DCGS0076',      'DOT',        'M',     'POST'],\n",
       "                 ordered=False)"
      ]
     },
     "execution_count": 158,
     "metadata": {},
     "output_type": "execute_result"
    }
   ],
   "source": [
    "data['StockCode'].dtype"
   ]
  },
  {
   "cell_type": "code",
   "execution_count": 159,
   "metadata": {},
   "outputs": [],
   "source": [
    "data['Description'] = data['Description'].astype('category')"
   ]
  },
  {
   "cell_type": "code",
   "execution_count": 160,
   "metadata": {},
   "outputs": [
    {
     "data": {
      "text/plain": [
       "CategoricalDtype(categories=[                              21494,\n",
       "                          ' 3 STRIPEY MICE FELTCRAFT',\n",
       "                       ' BLACK PIRATE TREASURE CHEST',\n",
       "                     ' BROWN  PIRATE TREASURE CHEST ',\n",
       "                  ' CAMPHOR WOOD PORTOBELLO MUSHROOM',\n",
       "                                   ' FLAMINGO LIGHTS',\n",
       "                       ' HOME SWEET HOME  BLACKBOARD',\n",
       "                        ' PEACE WOODEN BLOCK LETTERS',\n",
       "                          ' RED/WHITE DOT MINI CASES',\n",
       "                       ' RIDGED GLASS T-LIGHT HOLDER',\n",
       "                  ...\n",
       "                   'ZINC HEART LATTICE CHARGER LARGE',\n",
       "                        'ZINC METAL HEART DECORATION',\n",
       "                            'ZINC POLICE BOX LANTERN',\n",
       "                   'ZINC WILLIE WINKIE  CANDLE STICK',\n",
       "                                            'damages',\n",
       "                                    'invcd as 84879?',\n",
       "                                               'lost',\n",
       "                                              'lost?',\n",
       "                                              'short',\n",
       "                                       'sold as gold'],\n",
       "                 ordered=False)"
      ]
     },
     "execution_count": 160,
     "metadata": {},
     "output_type": "execute_result"
    }
   ],
   "source": [
    "data['Description'].dtype"
   ]
  },
  {
   "cell_type": "code",
   "execution_count": 161,
   "metadata": {},
   "outputs": [],
   "source": [
    "data['Customer ID'] = data['Customer ID'].astype('category')"
   ]
  },
  {
   "cell_type": "code",
   "execution_count": 162,
   "metadata": {},
   "outputs": [
    {
     "data": {
      "text/plain": [
       "CategoricalDtype(categories=[12362.0, 12435.0, 12437.0, 12471.0, 12484.0, 12490.0,\n",
       "                  12523.0, 12533.0, 12577.0, 12615.0,\n",
       "                  ...\n",
       "                  17984.0, 17998.0, 18001.0, 18037.0, 18087.0, 18102.0,\n",
       "                  18108.0, 18168.0, 18229.0, 18287.0],\n",
       "                 ordered=False)"
      ]
     },
     "execution_count": 162,
     "metadata": {},
     "output_type": "execute_result"
    }
   ],
   "source": [
    "data['Customer ID'].dtype"
   ]
  },
  {
   "cell_type": "code",
   "execution_count": 163,
   "metadata": {},
   "outputs": [],
   "source": [
    "data['Country'] = data['Country'].astype('category')"
   ]
  },
  {
   "cell_type": "code",
   "execution_count": 164,
   "metadata": {},
   "outputs": [
    {
     "data": {
      "text/plain": [
       "CategoricalDtype(categories=['Australia', 'Belgium', 'Channel Islands', 'Denmark', 'EIRE',\n",
       "                  'France', 'Germany', 'Japan', 'Netherlands', 'Nigeria',\n",
       "                  'Poland', 'Portugal', 'Spain', 'USA', 'United Kingdom'],\n",
       "                 ordered=False)"
      ]
     },
     "execution_count": 164,
     "metadata": {},
     "output_type": "execute_result"
    }
   ],
   "source": [
    "data['Country'].dtype"
   ]
  },
  {
   "cell_type": "markdown",
   "metadata": {},
   "source": [
    "Выше мы сказали, что 'InvoiceDate' - числовой признак.  Для этого переведем даты и время в секунды:"
   ]
  },
  {
   "cell_type": "code",
   "execution_count": 165,
   "metadata": {},
   "outputs": [],
   "source": [
    "data['InvoiceDate'] = data['InvoiceDate'].map(lambda x: int(x.timestamp()))"
   ]
  },
  {
   "cell_type": "code",
   "execution_count": 166,
   "metadata": {},
   "outputs": [
    {
     "data": {
      "text/html": [
       "<div>\n",
       "<style scoped>\n",
       "    .dataframe tbody tr th:only-of-type {\n",
       "        vertical-align: middle;\n",
       "    }\n",
       "\n",
       "    .dataframe tbody tr th {\n",
       "        vertical-align: top;\n",
       "    }\n",
       "\n",
       "    .dataframe thead th {\n",
       "        text-align: right;\n",
       "    }\n",
       "</style>\n",
       "<table border=\"1\" class=\"dataframe\">\n",
       "  <thead>\n",
       "    <tr style=\"text-align: right;\">\n",
       "      <th></th>\n",
       "      <th>Invoice</th>\n",
       "      <th>StockCode</th>\n",
       "      <th>Description</th>\n",
       "      <th>Quantity</th>\n",
       "      <th>InvoiceDate</th>\n",
       "      <th>Price</th>\n",
       "      <th>Customer ID</th>\n",
       "      <th>Country</th>\n",
       "    </tr>\n",
       "  </thead>\n",
       "  <tbody>\n",
       "    <tr>\n",
       "      <th>0</th>\n",
       "      <td>489434</td>\n",
       "      <td>85048</td>\n",
       "      <td>15CM CHRISTMAS GLASS BALL 20 LIGHTS</td>\n",
       "      <td>12</td>\n",
       "      <td>1259653500</td>\n",
       "      <td>6.95</td>\n",
       "      <td>13085.0</td>\n",
       "      <td>United Kingdom</td>\n",
       "    </tr>\n",
       "    <tr>\n",
       "      <th>1</th>\n",
       "      <td>489434</td>\n",
       "      <td>79323P</td>\n",
       "      <td>PINK CHERRY LIGHTS</td>\n",
       "      <td>12</td>\n",
       "      <td>1259653500</td>\n",
       "      <td>6.75</td>\n",
       "      <td>13085.0</td>\n",
       "      <td>United Kingdom</td>\n",
       "    </tr>\n",
       "    <tr>\n",
       "      <th>2</th>\n",
       "      <td>489434</td>\n",
       "      <td>79323W</td>\n",
       "      <td>WHITE CHERRY LIGHTS</td>\n",
       "      <td>12</td>\n",
       "      <td>1259653500</td>\n",
       "      <td>6.75</td>\n",
       "      <td>13085.0</td>\n",
       "      <td>United Kingdom</td>\n",
       "    </tr>\n",
       "    <tr>\n",
       "      <th>3</th>\n",
       "      <td>489434</td>\n",
       "      <td>22041</td>\n",
       "      <td>RECORD FRAME 7\" SINGLE SIZE</td>\n",
       "      <td>48</td>\n",
       "      <td>1259653500</td>\n",
       "      <td>2.10</td>\n",
       "      <td>13085.0</td>\n",
       "      <td>United Kingdom</td>\n",
       "    </tr>\n",
       "    <tr>\n",
       "      <th>4</th>\n",
       "      <td>489434</td>\n",
       "      <td>21232</td>\n",
       "      <td>STRAWBERRY CERAMIC TRINKET BOX</td>\n",
       "      <td>24</td>\n",
       "      <td>1259653500</td>\n",
       "      <td>1.25</td>\n",
       "      <td>13085.0</td>\n",
       "      <td>United Kingdom</td>\n",
       "    </tr>\n",
       "  </tbody>\n",
       "</table>\n",
       "</div>"
      ],
      "text/plain": [
       "  Invoice StockCode                          Description  Quantity  \\\n",
       "0  489434     85048  15CM CHRISTMAS GLASS BALL 20 LIGHTS        12   \n",
       "1  489434    79323P                   PINK CHERRY LIGHTS        12   \n",
       "2  489434    79323W                  WHITE CHERRY LIGHTS        12   \n",
       "3  489434     22041         RECORD FRAME 7\" SINGLE SIZE         48   \n",
       "4  489434     21232       STRAWBERRY CERAMIC TRINKET BOX        24   \n",
       "\n",
       "   InvoiceDate  Price Customer ID         Country  \n",
       "0   1259653500   6.95     13085.0  United Kingdom  \n",
       "1   1259653500   6.75     13085.0  United Kingdom  \n",
       "2   1259653500   6.75     13085.0  United Kingdom  \n",
       "3   1259653500   2.10     13085.0  United Kingdom  \n",
       "4   1259653500   1.25     13085.0  United Kingdom  "
      ]
     },
     "execution_count": 166,
     "metadata": {},
     "output_type": "execute_result"
    }
   ],
   "source": [
    "data.head()"
   ]
  },
  {
   "cell_type": "markdown",
   "metadata": {},
   "source": [
    "# 2. Визуализация и вычисление числовых характеристик"
   ]
  },
  {
   "cell_type": "markdown",
   "metadata": {},
   "source": [
    "Сводную информацию о признаках можем получить, вызвав метод describe."
   ]
  },
  {
   "cell_type": "markdown",
   "metadata": {},
   "source": [
    "Можно попробовать построить попарные матрицы разброса некоторых признаков, а также посмотреть значения некоторых эмперических характеристик выборки. Однако какие-либо значимые выводы касательно зависимости успешных транзакций от значений признаков сделать затруднительно."
   ]
  },
  {
   "cell_type": "code",
   "execution_count": 167,
   "metadata": {},
   "outputs": [
    {
     "data": {
      "text/html": [
       "<div>\n",
       "<style scoped>\n",
       "    .dataframe tbody tr th:only-of-type {\n",
       "        vertical-align: middle;\n",
       "    }\n",
       "\n",
       "    .dataframe tbody tr th {\n",
       "        vertical-align: top;\n",
       "    }\n",
       "\n",
       "    .dataframe thead th {\n",
       "        text-align: right;\n",
       "    }\n",
       "</style>\n",
       "<table border=\"1\" class=\"dataframe\">\n",
       "  <thead>\n",
       "    <tr style=\"text-align: right;\">\n",
       "      <th></th>\n",
       "      <th>Quantity</th>\n",
       "      <th>InvoiceDate</th>\n",
       "      <th>Price</th>\n",
       "    </tr>\n",
       "  </thead>\n",
       "  <tbody>\n",
       "    <tr>\n",
       "      <th>count</th>\n",
       "      <td>10000.000000</td>\n",
       "      <td>1.000000e+04</td>\n",
       "      <td>10000.000000</td>\n",
       "    </tr>\n",
       "    <tr>\n",
       "      <th>mean</th>\n",
       "      <td>10.265500</td>\n",
       "      <td>1.259768e+09</td>\n",
       "      <td>4.430561</td>\n",
       "    </tr>\n",
       "    <tr>\n",
       "      <th>std</th>\n",
       "      <td>97.878045</td>\n",
       "      <td>7.796093e+04</td>\n",
       "      <td>26.527995</td>\n",
       "    </tr>\n",
       "    <tr>\n",
       "      <th>min</th>\n",
       "      <td>-1043.000000</td>\n",
       "      <td>1.259654e+09</td>\n",
       "      <td>0.000000</td>\n",
       "    </tr>\n",
       "    <tr>\n",
       "      <th>25%</th>\n",
       "      <td>1.000000</td>\n",
       "      <td>1.259678e+09</td>\n",
       "      <td>1.250000</td>\n",
       "    </tr>\n",
       "    <tr>\n",
       "      <th>50%</th>\n",
       "      <td>3.000000</td>\n",
       "      <td>1.259765e+09</td>\n",
       "      <td>2.570000</td>\n",
       "    </tr>\n",
       "    <tr>\n",
       "      <th>75%</th>\n",
       "      <td>8.000000</td>\n",
       "      <td>1.259846e+09</td>\n",
       "      <td>4.950000</td>\n",
       "    </tr>\n",
       "    <tr>\n",
       "      <th>max</th>\n",
       "      <td>5184.000000</td>\n",
       "      <td>1.259920e+09</td>\n",
       "      <td>1998.490000</td>\n",
       "    </tr>\n",
       "  </tbody>\n",
       "</table>\n",
       "</div>"
      ],
      "text/plain": [
       "           Quantity   InvoiceDate         Price\n",
       "count  10000.000000  1.000000e+04  10000.000000\n",
       "mean      10.265500  1.259768e+09      4.430561\n",
       "std       97.878045  7.796093e+04     26.527995\n",
       "min    -1043.000000  1.259654e+09      0.000000\n",
       "25%        1.000000  1.259678e+09      1.250000\n",
       "50%        3.000000  1.259765e+09      2.570000\n",
       "75%        8.000000  1.259846e+09      4.950000\n",
       "max     5184.000000  1.259920e+09   1998.490000"
      ]
     },
     "execution_count": 167,
     "metadata": {},
     "output_type": "execute_result"
    }
   ],
   "source": [
    "data.describe()"
   ]
  },
  {
   "cell_type": "markdown",
   "metadata": {},
   "source": [
    "Для каждого количественного признака приведены средние значения, стандартное отклонение, минимальное и макимальное значения, медиана и значения квартилей.\n",
    "Получим информацию о категориальных:"
   ]
  },
  {
   "cell_type": "code",
   "execution_count": 168,
   "metadata": {},
   "outputs": [
    {
     "data": {
      "text/html": [
       "<div>\n",
       "<style scoped>\n",
       "    .dataframe tbody tr th:only-of-type {\n",
       "        vertical-align: middle;\n",
       "    }\n",
       "\n",
       "    .dataframe tbody tr th {\n",
       "        vertical-align: top;\n",
       "    }\n",
       "\n",
       "    .dataframe thead th {\n",
       "        text-align: right;\n",
       "    }\n",
       "</style>\n",
       "<table border=\"1\" class=\"dataframe\">\n",
       "  <thead>\n",
       "    <tr style=\"text-align: right;\">\n",
       "      <th></th>\n",
       "      <th>Invoice</th>\n",
       "      <th>StockCode</th>\n",
       "      <th>Description</th>\n",
       "      <th>Customer ID</th>\n",
       "      <th>Country</th>\n",
       "    </tr>\n",
       "  </thead>\n",
       "  <tbody>\n",
       "    <tr>\n",
       "      <th>count</th>\n",
       "      <td>10000</td>\n",
       "      <td>10000</td>\n",
       "      <td>9984</td>\n",
       "      <td>7195.0</td>\n",
       "      <td>10000</td>\n",
       "    </tr>\n",
       "    <tr>\n",
       "      <th>unique</th>\n",
       "      <td>458</td>\n",
       "      <td>2129</td>\n",
       "      <td>2113</td>\n",
       "      <td>321.0</td>\n",
       "      <td>15</td>\n",
       "    </tr>\n",
       "    <tr>\n",
       "      <th>top</th>\n",
       "      <td>490074</td>\n",
       "      <td>22086</td>\n",
       "      <td>PAPER CHAIN KIT 50'S CHRISTMAS</td>\n",
       "      <td>15542.0</td>\n",
       "      <td>United Kingdom</td>\n",
       "    </tr>\n",
       "    <tr>\n",
       "      <th>freq</th>\n",
       "      <td>580</td>\n",
       "      <td>69</td>\n",
       "      <td>69</td>\n",
       "      <td>139.0</td>\n",
       "      <td>9540</td>\n",
       "    </tr>\n",
       "  </tbody>\n",
       "</table>\n",
       "</div>"
      ],
      "text/plain": [
       "        Invoice  StockCode                      Description  Customer ID  \\\n",
       "count     10000      10000                             9984       7195.0   \n",
       "unique      458       2129                             2113        321.0   \n",
       "top      490074      22086  PAPER CHAIN KIT 50'S CHRISTMAS       15542.0   \n",
       "freq        580         69                               69        139.0   \n",
       "\n",
       "               Country  \n",
       "count            10000  \n",
       "unique              15  \n",
       "top     United Kingdom  \n",
       "freq              9540  "
      ]
     },
     "execution_count": 168,
     "metadata": {},
     "output_type": "execute_result"
    }
   ],
   "source": [
    "data.describe(include=['category'])"
   ]
  },
  {
   "cell_type": "code",
   "execution_count": 169,
   "metadata": {
    "scrolled": true
   },
   "outputs": [
    {
     "data": {
      "image/png": "[encoded data removed]",
      "text/plain": [
       "<Figure size 360x360 with 9 Axes>"
      ]
     },
     "metadata": {
      "needs_background": "light"
     },
     "output_type": "display_data"
    }
   ],
   "source": [
    "from pandas.plotting import scatter_matrix\n",
    "scatter_matrix(data, alpha = .01, figsize = (5, 5))\n",
    "pass"
   ]
  },
  {
   "cell_type": "markdown",
   "metadata": {},
   "source": [
    "Матрица корреляции:"
   ]
  },
  {
   "cell_type": "code",
   "execution_count": 170,
   "metadata": {},
   "outputs": [
    {
     "data": {
      "text/html": [
       "<div>\n",
       "<style scoped>\n",
       "    .dataframe tbody tr th:only-of-type {\n",
       "        vertical-align: middle;\n",
       "    }\n",
       "\n",
       "    .dataframe tbody tr th {\n",
       "        vertical-align: top;\n",
       "    }\n",
       "\n",
       "    .dataframe thead th {\n",
       "        text-align: right;\n",
       "    }\n",
       "</style>\n",
       "<table border=\"1\" class=\"dataframe\">\n",
       "  <thead>\n",
       "    <tr style=\"text-align: right;\">\n",
       "      <th></th>\n",
       "      <th>Quantity</th>\n",
       "      <th>InvoiceDate</th>\n",
       "      <th>Price</th>\n",
       "    </tr>\n",
       "  </thead>\n",
       "  <tbody>\n",
       "    <tr>\n",
       "      <th>Quantity</th>\n",
       "      <td>1.000000</td>\n",
       "      <td>0.019822</td>\n",
       "      <td>-0.010079</td>\n",
       "    </tr>\n",
       "    <tr>\n",
       "      <th>InvoiceDate</th>\n",
       "      <td>0.019822</td>\n",
       "      <td>1.000000</td>\n",
       "      <td>0.009470</td>\n",
       "    </tr>\n",
       "    <tr>\n",
       "      <th>Price</th>\n",
       "      <td>-0.010079</td>\n",
       "      <td>0.009470</td>\n",
       "      <td>1.000000</td>\n",
       "    </tr>\n",
       "  </tbody>\n",
       "</table>\n",
       "</div>"
      ],
      "text/plain": [
       "             Quantity  InvoiceDate     Price\n",
       "Quantity     1.000000     0.019822 -0.010079\n",
       "InvoiceDate  0.019822     1.000000  0.009470\n",
       "Price       -0.010079     0.009470  1.000000"
      ]
     },
     "execution_count": 170,
     "metadata": {},
     "output_type": "execute_result"
    }
   ],
   "source": [
    "corr_mat = data.corr()\n",
    "corr_mat"
   ]
  },
  {
   "cell_type": "markdown",
   "metadata": {},
   "source": [
    "# 3. Обработка пропущенных значений"
   ]
  },
  {
   "cell_type": "markdown",
   "metadata": {},
   "source": [
    " Посмотрим, сколько пропущенных значений в каждом столбце матрицы:"
   ]
  },
  {
   "cell_type": "code",
   "execution_count": 171,
   "metadata": {},
   "outputs": [
    {
     "data": {
      "text/plain": [
       "Invoice           0\n",
       "StockCode         0\n",
       "Description      16\n",
       "Quantity          0\n",
       "InvoiceDate       0\n",
       "Price             0\n",
       "Customer ID    2805\n",
       "Country           0\n",
       "dtype: int64"
      ]
     },
     "execution_count": 171,
     "metadata": {},
     "output_type": "execute_result"
    }
   ],
   "source": [
    "data.isna().sum() "
   ]
  },
  {
   "cell_type": "markdown",
   "metadata": {},
   "source": [
    "Пропущенные значения в столбцах, соответствующих категориальным признакам, заполним модой:"
   ]
  },
  {
   "cell_type": "code",
   "execution_count": 172,
   "metadata": {},
   "outputs": [],
   "source": [
    "data['Description'].fillna(data['Description'].mode().iloc[0], inplace=True)\n",
    "data['Customer ID'    ].fillna(data['Customer ID'    ].mode().iloc[0], inplace=True)"
   ]
  },
  {
   "cell_type": "code",
   "execution_count": 173,
   "metadata": {},
   "outputs": [
    {
     "data": {
      "text/plain": [
       "Invoice        0\n",
       "StockCode      0\n",
       "Description    0\n",
       "Quantity       0\n",
       "InvoiceDate    0\n",
       "Price          0\n",
       "Customer ID    0\n",
       "Country        0\n",
       "dtype: int64"
      ]
     },
     "execution_count": 173,
     "metadata": {},
     "output_type": "execute_result"
    }
   ],
   "source": [
    "data.isna().sum() "
   ]
  },
  {
   "cell_type": "code",
   "execution_count": 174,
   "metadata": {},
   "outputs": [
    {
     "data": {
      "text/html": [
       "<div>\n",
       "<style scoped>\n",
       "    .dataframe tbody tr th:only-of-type {\n",
       "        vertical-align: middle;\n",
       "    }\n",
       "\n",
       "    .dataframe tbody tr th {\n",
       "        vertical-align: top;\n",
       "    }\n",
       "\n",
       "    .dataframe thead th {\n",
       "        text-align: right;\n",
       "    }\n",
       "</style>\n",
       "<table border=\"1\" class=\"dataframe\">\n",
       "  <thead>\n",
       "    <tr style=\"text-align: right;\">\n",
       "      <th></th>\n",
       "      <th>Quantity</th>\n",
       "      <th>InvoiceDate</th>\n",
       "      <th>Price</th>\n",
       "    </tr>\n",
       "  </thead>\n",
       "  <tbody>\n",
       "    <tr>\n",
       "      <th>count</th>\n",
       "      <td>10000.000000</td>\n",
       "      <td>1.000000e+04</td>\n",
       "      <td>10000.000000</td>\n",
       "    </tr>\n",
       "    <tr>\n",
       "      <th>mean</th>\n",
       "      <td>10.265500</td>\n",
       "      <td>1.259768e+09</td>\n",
       "      <td>4.430561</td>\n",
       "    </tr>\n",
       "    <tr>\n",
       "      <th>std</th>\n",
       "      <td>97.878045</td>\n",
       "      <td>7.796093e+04</td>\n",
       "      <td>26.527995</td>\n",
       "    </tr>\n",
       "    <tr>\n",
       "      <th>min</th>\n",
       "      <td>-1043.000000</td>\n",
       "      <td>1.259654e+09</td>\n",
       "      <td>0.000000</td>\n",
       "    </tr>\n",
       "    <tr>\n",
       "      <th>25%</th>\n",
       "      <td>1.000000</td>\n",
       "      <td>1.259678e+09</td>\n",
       "      <td>1.250000</td>\n",
       "    </tr>\n",
       "    <tr>\n",
       "      <th>50%</th>\n",
       "      <td>3.000000</td>\n",
       "      <td>1.259765e+09</td>\n",
       "      <td>2.570000</td>\n",
       "    </tr>\n",
       "    <tr>\n",
       "      <th>75%</th>\n",
       "      <td>8.000000</td>\n",
       "      <td>1.259846e+09</td>\n",
       "      <td>4.950000</td>\n",
       "    </tr>\n",
       "    <tr>\n",
       "      <th>max</th>\n",
       "      <td>5184.000000</td>\n",
       "      <td>1.259920e+09</td>\n",
       "      <td>1998.490000</td>\n",
       "    </tr>\n",
       "  </tbody>\n",
       "</table>\n",
       "</div>"
      ],
      "text/plain": [
       "           Quantity   InvoiceDate         Price\n",
       "count  10000.000000  1.000000e+04  10000.000000\n",
       "mean      10.265500  1.259768e+09      4.430561\n",
       "std       97.878045  7.796093e+04     26.527995\n",
       "min    -1043.000000  1.259654e+09      0.000000\n",
       "25%        1.000000  1.259678e+09      1.250000\n",
       "50%        3.000000  1.259765e+09      2.570000\n",
       "75%        8.000000  1.259846e+09      4.950000\n",
       "max     5184.000000  1.259920e+09   1998.490000"
      ]
     },
     "execution_count": 174,
     "metadata": {},
     "output_type": "execute_result"
    }
   ],
   "source": [
    "data.describe()"
   ]
  },
  {
   "cell_type": "code",
   "execution_count": 175,
   "metadata": {},
   "outputs": [
    {
     "data": {
      "text/html": [
       "<div>\n",
       "<style scoped>\n",
       "    .dataframe tbody tr th:only-of-type {\n",
       "        vertical-align: middle;\n",
       "    }\n",
       "\n",
       "    .dataframe tbody tr th {\n",
       "        vertical-align: top;\n",
       "    }\n",
       "\n",
       "    .dataframe thead th {\n",
       "        text-align: right;\n",
       "    }\n",
       "</style>\n",
       "<table border=\"1\" class=\"dataframe\">\n",
       "  <thead>\n",
       "    <tr style=\"text-align: right;\">\n",
       "      <th></th>\n",
       "      <th>Invoice</th>\n",
       "      <th>StockCode</th>\n",
       "      <th>Description</th>\n",
       "      <th>Customer ID</th>\n",
       "      <th>Country</th>\n",
       "    </tr>\n",
       "  </thead>\n",
       "  <tbody>\n",
       "    <tr>\n",
       "      <th>count</th>\n",
       "      <td>10000</td>\n",
       "      <td>10000</td>\n",
       "      <td>10000</td>\n",
       "      <td>10000.0</td>\n",
       "      <td>10000</td>\n",
       "    </tr>\n",
       "    <tr>\n",
       "      <th>unique</th>\n",
       "      <td>458</td>\n",
       "      <td>2129</td>\n",
       "      <td>2113</td>\n",
       "      <td>321.0</td>\n",
       "      <td>15</td>\n",
       "    </tr>\n",
       "    <tr>\n",
       "      <th>top</th>\n",
       "      <td>490074</td>\n",
       "      <td>22086</td>\n",
       "      <td>PAPER CHAIN KIT 50'S CHRISTMAS</td>\n",
       "      <td>15542.0</td>\n",
       "      <td>United Kingdom</td>\n",
       "    </tr>\n",
       "    <tr>\n",
       "      <th>freq</th>\n",
       "      <td>580</td>\n",
       "      <td>69</td>\n",
       "      <td>85</td>\n",
       "      <td>2944.0</td>\n",
       "      <td>9540</td>\n",
       "    </tr>\n",
       "  </tbody>\n",
       "</table>\n",
       "</div>"
      ],
      "text/plain": [
       "        Invoice  StockCode                      Description  Customer ID  \\\n",
       "count     10000      10000                            10000      10000.0   \n",
       "unique      458       2129                             2113        321.0   \n",
       "top      490074      22086  PAPER CHAIN KIT 50'S CHRISTMAS       15542.0   \n",
       "freq        580         69                               85       2944.0   \n",
       "\n",
       "               Country  \n",
       "count            10000  \n",
       "unique              15  \n",
       "top     United Kingdom  \n",
       "freq              9540  "
      ]
     },
     "execution_count": 175,
     "metadata": {},
     "output_type": "execute_result"
    }
   ],
   "source": [
    "data.describe(include=['category'])"
   ]
  },
  {
   "cell_type": "markdown",
   "metadata": {},
   "source": [
    "# 4. Обработка категориальных признаков"
   ]
  },
  {
   "cell_type": "markdown",
   "metadata": {},
   "source": [
    "У нас есть 5 категориальных признака:`Invoice`, `StockCode`, `Description`, `Customer ID`, `Country`. Поэтому их вначале надо закодировать с помощью числовых принаков.\n",
    "\n",
    "Основной признак `Invoice` для нашей задачи является бинарным. Поэтому заменим его на числовой:\n",
    "Если признак `Invoice`начинается на`C...`(отмена транзакции), то 0, а иначе 1"
   ]
  },
  {
   "cell_type": "code",
   "execution_count": 176,
   "metadata": {},
   "outputs": [],
   "source": [
    "temp = data['Invoice'] \n",
    "data['Invoice'] = data['Invoice'].astype('object')\n",
    "for i in range(data['Invoice'].size):\n",
    "    if isinstance(temp[i], int):\n",
    "        data.at[i, 'Invoice'] = 1\n",
    "    else:\n",
    "        data.at[i, 'Invoice'] = 0"
   ]
  },
  {
   "cell_type": "markdown",
   "metadata": {},
   "source": [
    "Остальные категориальные признаки не являются бинарными. Поэтому к ним нужно применять метод бинаризации. Начнем с `StockCode`."
   ]
  },
  {
   "cell_type": "code",
   "execution_count": 177,
   "metadata": {},
   "outputs": [],
   "source": [
    " StockCode_dummies = pd.get_dummies(data['StockCode'])"
   ]
  },
  {
   "cell_type": "code",
   "execution_count": 178,
   "metadata": {},
   "outputs": [
    {
     "data": {
      "text/html": [
       "<div>\n",
       "<style scoped>\n",
       "    .dataframe tbody tr th:only-of-type {\n",
       "        vertical-align: middle;\n",
       "    }\n",
       "\n",
       "    .dataframe tbody tr th {\n",
       "        vertical-align: top;\n",
       "    }\n",
       "\n",
       "    .dataframe thead th {\n",
       "        text-align: right;\n",
       "    }\n",
       "</style>\n",
       "<table border=\"1\" class=\"dataframe\">\n",
       "  <thead>\n",
       "    <tr style=\"text-align: right;\">\n",
       "      <th></th>\n",
       "      <th>10002</th>\n",
       "      <th>10080</th>\n",
       "      <th>10109</th>\n",
       "      <th>10120</th>\n",
       "      <th>10125</th>\n",
       "      <th>10133</th>\n",
       "      <th>10134</th>\n",
       "      <th>10135</th>\n",
       "      <th>10138</th>\n",
       "      <th>11001</th>\n",
       "      <th>...</th>\n",
       "      <th>90214S</th>\n",
       "      <th>C2</th>\n",
       "      <th>D</th>\n",
       "      <th>DCGS0004</th>\n",
       "      <th>DCGS0058</th>\n",
       "      <th>DCGS0068</th>\n",
       "      <th>DCGS0076</th>\n",
       "      <th>DOT</th>\n",
       "      <th>M</th>\n",
       "      <th>POST</th>\n",
       "    </tr>\n",
       "  </thead>\n",
       "  <tbody>\n",
       "    <tr>\n",
       "      <th>0</th>\n",
       "      <td>0</td>\n",
       "      <td>0</td>\n",
       "      <td>0</td>\n",
       "      <td>0</td>\n",
       "      <td>0</td>\n",
       "      <td>0</td>\n",
       "      <td>0</td>\n",
       "      <td>0</td>\n",
       "      <td>0</td>\n",
       "      <td>0</td>\n",
       "      <td>...</td>\n",
       "      <td>0</td>\n",
       "      <td>0</td>\n",
       "      <td>0</td>\n",
       "      <td>0</td>\n",
       "      <td>0</td>\n",
       "      <td>0</td>\n",
       "      <td>0</td>\n",
       "      <td>0</td>\n",
       "      <td>0</td>\n",
       "      <td>0</td>\n",
       "    </tr>\n",
       "    <tr>\n",
       "      <th>1</th>\n",
       "      <td>0</td>\n",
       "      <td>0</td>\n",
       "      <td>0</td>\n",
       "      <td>0</td>\n",
       "      <td>0</td>\n",
       "      <td>0</td>\n",
       "      <td>0</td>\n",
       "      <td>0</td>\n",
       "      <td>0</td>\n",
       "      <td>0</td>\n",
       "      <td>...</td>\n",
       "      <td>0</td>\n",
       "      <td>0</td>\n",
       "      <td>0</td>\n",
       "      <td>0</td>\n",
       "      <td>0</td>\n",
       "      <td>0</td>\n",
       "      <td>0</td>\n",
       "      <td>0</td>\n",
       "      <td>0</td>\n",
       "      <td>0</td>\n",
       "    </tr>\n",
       "    <tr>\n",
       "      <th>2</th>\n",
       "      <td>0</td>\n",
       "      <td>0</td>\n",
       "      <td>0</td>\n",
       "      <td>0</td>\n",
       "      <td>0</td>\n",
       "      <td>0</td>\n",
       "      <td>0</td>\n",
       "      <td>0</td>\n",
       "      <td>0</td>\n",
       "      <td>0</td>\n",
       "      <td>...</td>\n",
       "      <td>0</td>\n",
       "      <td>0</td>\n",
       "      <td>0</td>\n",
       "      <td>0</td>\n",
       "      <td>0</td>\n",
       "      <td>0</td>\n",
       "      <td>0</td>\n",
       "      <td>0</td>\n",
       "      <td>0</td>\n",
       "      <td>0</td>\n",
       "    </tr>\n",
       "    <tr>\n",
       "      <th>3</th>\n",
       "      <td>0</td>\n",
       "      <td>0</td>\n",
       "      <td>0</td>\n",
       "      <td>0</td>\n",
       "      <td>0</td>\n",
       "      <td>0</td>\n",
       "      <td>0</td>\n",
       "      <td>0</td>\n",
       "      <td>0</td>\n",
       "      <td>0</td>\n",
       "      <td>...</td>\n",
       "      <td>0</td>\n",
       "      <td>0</td>\n",
       "      <td>0</td>\n",
       "      <td>0</td>\n",
       "      <td>0</td>\n",
       "      <td>0</td>\n",
       "      <td>0</td>\n",
       "      <td>0</td>\n",
       "      <td>0</td>\n",
       "      <td>0</td>\n",
       "    </tr>\n",
       "    <tr>\n",
       "      <th>4</th>\n",
       "      <td>0</td>\n",
       "      <td>0</td>\n",
       "      <td>0</td>\n",
       "      <td>0</td>\n",
       "      <td>0</td>\n",
       "      <td>0</td>\n",
       "      <td>0</td>\n",
       "      <td>0</td>\n",
       "      <td>0</td>\n",
       "      <td>0</td>\n",
       "      <td>...</td>\n",
       "      <td>0</td>\n",
       "      <td>0</td>\n",
       "      <td>0</td>\n",
       "      <td>0</td>\n",
       "      <td>0</td>\n",
       "      <td>0</td>\n",
       "      <td>0</td>\n",
       "      <td>0</td>\n",
       "      <td>0</td>\n",
       "      <td>0</td>\n",
       "    </tr>\n",
       "  </tbody>\n",
       "</table>\n",
       "<p>5 rows × 2129 columns</p>\n",
       "</div>"
      ],
      "text/plain": [
       "   10002  10080  10109  10120  10125  10133  10134  10135  10138  11001  ...  \\\n",
       "0      0      0      0      0      0      0      0      0      0      0  ...   \n",
       "1      0      0      0      0      0      0      0      0      0      0  ...   \n",
       "2      0      0      0      0      0      0      0      0      0      0  ...   \n",
       "3      0      0      0      0      0      0      0      0      0      0  ...   \n",
       "4      0      0      0      0      0      0      0      0      0      0  ...   \n",
       "\n",
       "   90214S  C2  D  DCGS0004  DCGS0058  DCGS0068  DCGS0076  DOT  M  POST  \n",
       "0       0   0  0         0         0         0         0    0  0     0  \n",
       "1       0   0  0         0         0         0         0    0  0     0  \n",
       "2       0   0  0         0         0         0         0    0  0     0  \n",
       "3       0   0  0         0         0         0         0    0  0     0  \n",
       "4       0   0  0         0         0         0         0    0  0     0  \n",
       "\n",
       "[5 rows x 2129 columns]"
      ]
     },
     "execution_count": 178,
     "metadata": {},
     "output_type": "execute_result"
    }
   ],
   "source": [
    " StockCode_dummies.head()"
   ]
  },
  {
   "cell_type": "markdown",
   "metadata": {},
   "source": [
    "Добавим эти dummy-столбцы к таблице и удалим столбец StockCode:"
   ]
  },
  {
   "cell_type": "code",
   "execution_count": 179,
   "metadata": {},
   "outputs": [],
   "source": [
    "data = pd.concat((data, StockCode_dummies), axis=1)\n",
    "data = data.drop(['StockCode'], axis=1)"
   ]
  },
  {
   "cell_type": "code",
   "execution_count": 180,
   "metadata": {},
   "outputs": [
    {
     "data": {
      "text/html": [
       "<div>\n",
       "<style scoped>\n",
       "    .dataframe tbody tr th:only-of-type {\n",
       "        vertical-align: middle;\n",
       "    }\n",
       "\n",
       "    .dataframe tbody tr th {\n",
       "        vertical-align: top;\n",
       "    }\n",
       "\n",
       "    .dataframe thead th {\n",
       "        text-align: right;\n",
       "    }\n",
       "</style>\n",
       "<table border=\"1\" class=\"dataframe\">\n",
       "  <thead>\n",
       "    <tr style=\"text-align: right;\">\n",
       "      <th></th>\n",
       "      <th>Invoice</th>\n",
       "      <th>Description</th>\n",
       "      <th>Quantity</th>\n",
       "      <th>InvoiceDate</th>\n",
       "      <th>Price</th>\n",
       "      <th>Customer ID</th>\n",
       "      <th>Country</th>\n",
       "      <th>10002</th>\n",
       "      <th>10080</th>\n",
       "      <th>10109</th>\n",
       "      <th>...</th>\n",
       "      <th>90214S</th>\n",
       "      <th>C2</th>\n",
       "      <th>D</th>\n",
       "      <th>DCGS0004</th>\n",
       "      <th>DCGS0058</th>\n",
       "      <th>DCGS0068</th>\n",
       "      <th>DCGS0076</th>\n",
       "      <th>DOT</th>\n",
       "      <th>M</th>\n",
       "      <th>POST</th>\n",
       "    </tr>\n",
       "  </thead>\n",
       "  <tbody>\n",
       "    <tr>\n",
       "      <th>0</th>\n",
       "      <td>1</td>\n",
       "      <td>15CM CHRISTMAS GLASS BALL 20 LIGHTS</td>\n",
       "      <td>12</td>\n",
       "      <td>1259653500</td>\n",
       "      <td>6.95</td>\n",
       "      <td>13085.0</td>\n",
       "      <td>United Kingdom</td>\n",
       "      <td>0</td>\n",
       "      <td>0</td>\n",
       "      <td>0</td>\n",
       "      <td>...</td>\n",
       "      <td>0</td>\n",
       "      <td>0</td>\n",
       "      <td>0</td>\n",
       "      <td>0</td>\n",
       "      <td>0</td>\n",
       "      <td>0</td>\n",
       "      <td>0</td>\n",
       "      <td>0</td>\n",
       "      <td>0</td>\n",
       "      <td>0</td>\n",
       "    </tr>\n",
       "    <tr>\n",
       "      <th>1</th>\n",
       "      <td>1</td>\n",
       "      <td>PINK CHERRY LIGHTS</td>\n",
       "      <td>12</td>\n",
       "      <td>1259653500</td>\n",
       "      <td>6.75</td>\n",
       "      <td>13085.0</td>\n",
       "      <td>United Kingdom</td>\n",
       "      <td>0</td>\n",
       "      <td>0</td>\n",
       "      <td>0</td>\n",
       "      <td>...</td>\n",
       "      <td>0</td>\n",
       "      <td>0</td>\n",
       "      <td>0</td>\n",
       "      <td>0</td>\n",
       "      <td>0</td>\n",
       "      <td>0</td>\n",
       "      <td>0</td>\n",
       "      <td>0</td>\n",
       "      <td>0</td>\n",
       "      <td>0</td>\n",
       "    </tr>\n",
       "    <tr>\n",
       "      <th>2</th>\n",
       "      <td>1</td>\n",
       "      <td>WHITE CHERRY LIGHTS</td>\n",
       "      <td>12</td>\n",
       "      <td>1259653500</td>\n",
       "      <td>6.75</td>\n",
       "      <td>13085.0</td>\n",
       "      <td>United Kingdom</td>\n",
       "      <td>0</td>\n",
       "      <td>0</td>\n",
       "      <td>0</td>\n",
       "      <td>...</td>\n",
       "      <td>0</td>\n",
       "      <td>0</td>\n",
       "      <td>0</td>\n",
       "      <td>0</td>\n",
       "      <td>0</td>\n",
       "      <td>0</td>\n",
       "      <td>0</td>\n",
       "      <td>0</td>\n",
       "      <td>0</td>\n",
       "      <td>0</td>\n",
       "    </tr>\n",
       "    <tr>\n",
       "      <th>3</th>\n",
       "      <td>1</td>\n",
       "      <td>RECORD FRAME 7\" SINGLE SIZE</td>\n",
       "      <td>48</td>\n",
       "      <td>1259653500</td>\n",
       "      <td>2.10</td>\n",
       "      <td>13085.0</td>\n",
       "      <td>United Kingdom</td>\n",
       "      <td>0</td>\n",
       "      <td>0</td>\n",
       "      <td>0</td>\n",
       "      <td>...</td>\n",
       "      <td>0</td>\n",
       "      <td>0</td>\n",
       "      <td>0</td>\n",
       "      <td>0</td>\n",
       "      <td>0</td>\n",
       "      <td>0</td>\n",
       "      <td>0</td>\n",
       "      <td>0</td>\n",
       "      <td>0</td>\n",
       "      <td>0</td>\n",
       "    </tr>\n",
       "    <tr>\n",
       "      <th>4</th>\n",
       "      <td>1</td>\n",
       "      <td>STRAWBERRY CERAMIC TRINKET BOX</td>\n",
       "      <td>24</td>\n",
       "      <td>1259653500</td>\n",
       "      <td>1.25</td>\n",
       "      <td>13085.0</td>\n",
       "      <td>United Kingdom</td>\n",
       "      <td>0</td>\n",
       "      <td>0</td>\n",
       "      <td>0</td>\n",
       "      <td>...</td>\n",
       "      <td>0</td>\n",
       "      <td>0</td>\n",
       "      <td>0</td>\n",
       "      <td>0</td>\n",
       "      <td>0</td>\n",
       "      <td>0</td>\n",
       "      <td>0</td>\n",
       "      <td>0</td>\n",
       "      <td>0</td>\n",
       "      <td>0</td>\n",
       "    </tr>\n",
       "  </tbody>\n",
       "</table>\n",
       "<p>5 rows × 2136 columns</p>\n",
       "</div>"
      ],
      "text/plain": [
       "  Invoice                          Description  Quantity  InvoiceDate  Price  \\\n",
       "0       1  15CM CHRISTMAS GLASS BALL 20 LIGHTS        12   1259653500   6.95   \n",
       "1       1                   PINK CHERRY LIGHTS        12   1259653500   6.75   \n",
       "2       1                  WHITE CHERRY LIGHTS        12   1259653500   6.75   \n",
       "3       1         RECORD FRAME 7\" SINGLE SIZE         48   1259653500   2.10   \n",
       "4       1       STRAWBERRY CERAMIC TRINKET BOX        24   1259653500   1.25   \n",
       "\n",
       "  Customer ID         Country  10002  10080  10109  ...  90214S  C2  D  \\\n",
       "0     13085.0  United Kingdom      0      0      0  ...       0   0  0   \n",
       "1     13085.0  United Kingdom      0      0      0  ...       0   0  0   \n",
       "2     13085.0  United Kingdom      0      0      0  ...       0   0  0   \n",
       "3     13085.0  United Kingdom      0      0      0  ...       0   0  0   \n",
       "4     13085.0  United Kingdom      0      0      0  ...       0   0  0   \n",
       "\n",
       "   DCGS0004  DCGS0058  DCGS0068  DCGS0076  DOT  M  POST  \n",
       "0         0         0         0         0    0  0     0  \n",
       "1         0         0         0         0    0  0     0  \n",
       "2         0         0         0         0    0  0     0  \n",
       "3         0         0         0         0    0  0     0  \n",
       "4         0         0         0         0    0  0     0  \n",
       "\n",
       "[5 rows x 2136 columns]"
      ]
     },
     "execution_count": 180,
     "metadata": {},
     "output_type": "execute_result"
    }
   ],
   "source": [
    "data.head()"
   ]
  },
  {
   "cell_type": "markdown",
   "metadata": {},
   "source": [
    "C признаками Customer ID, Country сделаем тоже самое. Очевидно, что успешность транзакции никак не зависит 'Description', поэтому уберем  его."
   ]
  },
  {
   "cell_type": "code",
   "execution_count": 181,
   "metadata": {},
   "outputs": [],
   "source": [
    "#с Customer ID\n",
    "CustomerID_dummies = pd.get_dummies(data['Customer ID'])\n",
    "data = pd.concat((data, CustomerID_dummies), axis=1)\n",
    "data = data.drop(['Customer ID'], axis=1)"
   ]
  },
  {
   "cell_type": "code",
   "execution_count": 182,
   "metadata": {},
   "outputs": [],
   "source": [
    "#с Country\n",
    "Country_dummies = pd.get_dummies(data['Country'])\n",
    "data = pd.concat((data, Country_dummies), axis=1)\n",
    "data = data.drop(['Country'], axis=1)"
   ]
  },
  {
   "cell_type": "code",
   "execution_count": 183,
   "metadata": {},
   "outputs": [],
   "source": [
    "#с Description\n",
    "data = data.drop(['Description'], axis=1)"
   ]
  },
  {
   "cell_type": "markdown",
   "metadata": {},
   "source": [
    "В итоге получаем:"
   ]
  },
  {
   "cell_type": "code",
   "execution_count": 184,
   "metadata": {},
   "outputs": [
    {
     "data": {
      "text/html": [
       "<div>\n",
       "<style scoped>\n",
       "    .dataframe tbody tr th:only-of-type {\n",
       "        vertical-align: middle;\n",
       "    }\n",
       "\n",
       "    .dataframe tbody tr th {\n",
       "        vertical-align: top;\n",
       "    }\n",
       "\n",
       "    .dataframe thead th {\n",
       "        text-align: right;\n",
       "    }\n",
       "</style>\n",
       "<table border=\"1\" class=\"dataframe\">\n",
       "  <thead>\n",
       "    <tr style=\"text-align: right;\">\n",
       "      <th></th>\n",
       "      <th>Invoice</th>\n",
       "      <th>Quantity</th>\n",
       "      <th>InvoiceDate</th>\n",
       "      <th>Price</th>\n",
       "      <th>10002</th>\n",
       "      <th>10080</th>\n",
       "      <th>10109</th>\n",
       "      <th>10120</th>\n",
       "      <th>10125</th>\n",
       "      <th>10133</th>\n",
       "      <th>...</th>\n",
       "      <th>France</th>\n",
       "      <th>Germany</th>\n",
       "      <th>Japan</th>\n",
       "      <th>Netherlands</th>\n",
       "      <th>Nigeria</th>\n",
       "      <th>Poland</th>\n",
       "      <th>Portugal</th>\n",
       "      <th>Spain</th>\n",
       "      <th>USA</th>\n",
       "      <th>United Kingdom</th>\n",
       "    </tr>\n",
       "  </thead>\n",
       "  <tbody>\n",
       "    <tr>\n",
       "      <th>0</th>\n",
       "      <td>1</td>\n",
       "      <td>12</td>\n",
       "      <td>1259653500</td>\n",
       "      <td>6.95</td>\n",
       "      <td>0</td>\n",
       "      <td>0</td>\n",
       "      <td>0</td>\n",
       "      <td>0</td>\n",
       "      <td>0</td>\n",
       "      <td>0</td>\n",
       "      <td>...</td>\n",
       "      <td>0</td>\n",
       "      <td>0</td>\n",
       "      <td>0</td>\n",
       "      <td>0</td>\n",
       "      <td>0</td>\n",
       "      <td>0</td>\n",
       "      <td>0</td>\n",
       "      <td>0</td>\n",
       "      <td>0</td>\n",
       "      <td>1</td>\n",
       "    </tr>\n",
       "    <tr>\n",
       "      <th>1</th>\n",
       "      <td>1</td>\n",
       "      <td>12</td>\n",
       "      <td>1259653500</td>\n",
       "      <td>6.75</td>\n",
       "      <td>0</td>\n",
       "      <td>0</td>\n",
       "      <td>0</td>\n",
       "      <td>0</td>\n",
       "      <td>0</td>\n",
       "      <td>0</td>\n",
       "      <td>...</td>\n",
       "      <td>0</td>\n",
       "      <td>0</td>\n",
       "      <td>0</td>\n",
       "      <td>0</td>\n",
       "      <td>0</td>\n",
       "      <td>0</td>\n",
       "      <td>0</td>\n",
       "      <td>0</td>\n",
       "      <td>0</td>\n",
       "      <td>1</td>\n",
       "    </tr>\n",
       "    <tr>\n",
       "      <th>2</th>\n",
       "      <td>1</td>\n",
       "      <td>12</td>\n",
       "      <td>1259653500</td>\n",
       "      <td>6.75</td>\n",
       "      <td>0</td>\n",
       "      <td>0</td>\n",
       "      <td>0</td>\n",
       "      <td>0</td>\n",
       "      <td>0</td>\n",
       "      <td>0</td>\n",
       "      <td>...</td>\n",
       "      <td>0</td>\n",
       "      <td>0</td>\n",
       "      <td>0</td>\n",
       "      <td>0</td>\n",
       "      <td>0</td>\n",
       "      <td>0</td>\n",
       "      <td>0</td>\n",
       "      <td>0</td>\n",
       "      <td>0</td>\n",
       "      <td>1</td>\n",
       "    </tr>\n",
       "    <tr>\n",
       "      <th>3</th>\n",
       "      <td>1</td>\n",
       "      <td>48</td>\n",
       "      <td>1259653500</td>\n",
       "      <td>2.10</td>\n",
       "      <td>0</td>\n",
       "      <td>0</td>\n",
       "      <td>0</td>\n",
       "      <td>0</td>\n",
       "      <td>0</td>\n",
       "      <td>0</td>\n",
       "      <td>...</td>\n",
       "      <td>0</td>\n",
       "      <td>0</td>\n",
       "      <td>0</td>\n",
       "      <td>0</td>\n",
       "      <td>0</td>\n",
       "      <td>0</td>\n",
       "      <td>0</td>\n",
       "      <td>0</td>\n",
       "      <td>0</td>\n",
       "      <td>1</td>\n",
       "    </tr>\n",
       "    <tr>\n",
       "      <th>4</th>\n",
       "      <td>1</td>\n",
       "      <td>24</td>\n",
       "      <td>1259653500</td>\n",
       "      <td>1.25</td>\n",
       "      <td>0</td>\n",
       "      <td>0</td>\n",
       "      <td>0</td>\n",
       "      <td>0</td>\n",
       "      <td>0</td>\n",
       "      <td>0</td>\n",
       "      <td>...</td>\n",
       "      <td>0</td>\n",
       "      <td>0</td>\n",
       "      <td>0</td>\n",
       "      <td>0</td>\n",
       "      <td>0</td>\n",
       "      <td>0</td>\n",
       "      <td>0</td>\n",
       "      <td>0</td>\n",
       "      <td>0</td>\n",
       "      <td>1</td>\n",
       "    </tr>\n",
       "  </tbody>\n",
       "</table>\n",
       "<p>5 rows × 2469 columns</p>\n",
       "</div>"
      ],
      "text/plain": [
       "  Invoice  Quantity  InvoiceDate  Price  10002  10080  10109  10120  10125  \\\n",
       "0       1        12   1259653500   6.95      0      0      0      0      0   \n",
       "1       1        12   1259653500   6.75      0      0      0      0      0   \n",
       "2       1        12   1259653500   6.75      0      0      0      0      0   \n",
       "3       1        48   1259653500   2.10      0      0      0      0      0   \n",
       "4       1        24   1259653500   1.25      0      0      0      0      0   \n",
       "\n",
       "   10133  ...  France  Germany  Japan  Netherlands  Nigeria  Poland  Portugal  \\\n",
       "0      0  ...       0        0      0            0        0       0         0   \n",
       "1      0  ...       0        0      0            0        0       0         0   \n",
       "2      0  ...       0        0      0            0        0       0         0   \n",
       "3      0  ...       0        0      0            0        0       0         0   \n",
       "4      0  ...       0        0      0            0        0       0         0   \n",
       "\n",
       "   Spain  USA  United Kingdom  \n",
       "0      0    0               1  \n",
       "1      0    0               1  \n",
       "2      0    0               1  \n",
       "3      0    0               1  \n",
       "4      0    0               1  \n",
       "\n",
       "[5 rows x 2469 columns]"
      ]
     },
     "execution_count": 184,
     "metadata": {},
     "output_type": "execute_result"
    }
   ],
   "source": [
    "data.head()"
   ]
  },
  {
   "cell_type": "markdown",
   "metadata": {},
   "source": [
    "## 5. Нормализация количественных признаков\n",
    "\n",
    "Выполним стандартизацию всех признаков:"
   ]
  },
  {
   "cell_type": "code",
   "execution_count": 185,
   "metadata": {},
   "outputs": [],
   "source": [
    "data_stand = (data - data.mean(axis = 0))/data.std(axis = 0)"
   ]
  },
  {
   "cell_type": "code",
   "execution_count": 186,
   "metadata": {},
   "outputs": [
    {
     "data": {
      "text/html": [
       "<div>\n",
       "<style scoped>\n",
       "    .dataframe tbody tr th:only-of-type {\n",
       "        vertical-align: middle;\n",
       "    }\n",
       "\n",
       "    .dataframe tbody tr th {\n",
       "        vertical-align: top;\n",
       "    }\n",
       "\n",
       "    .dataframe thead th {\n",
       "        text-align: right;\n",
       "    }\n",
       "</style>\n",
       "<table border=\"1\" class=\"dataframe\">\n",
       "  <thead>\n",
       "    <tr style=\"text-align: right;\">\n",
       "      <th></th>\n",
       "      <th>Quantity</th>\n",
       "      <th>InvoiceDate</th>\n",
       "      <th>Price</th>\n",
       "      <th>10002</th>\n",
       "      <th>10080</th>\n",
       "      <th>10109</th>\n",
       "      <th>10120</th>\n",
       "      <th>10125</th>\n",
       "      <th>10133</th>\n",
       "      <th>10134</th>\n",
       "      <th>...</th>\n",
       "      <th>France</th>\n",
       "      <th>Germany</th>\n",
       "      <th>Japan</th>\n",
       "      <th>Netherlands</th>\n",
       "      <th>Nigeria</th>\n",
       "      <th>Poland</th>\n",
       "      <th>Portugal</th>\n",
       "      <th>Spain</th>\n",
       "      <th>USA</th>\n",
       "      <th>United Kingdom</th>\n",
       "    </tr>\n",
       "  </thead>\n",
       "  <tbody>\n",
       "    <tr>\n",
       "      <th>count</th>\n",
       "      <td>1.000000e+04</td>\n",
       "      <td>1.000000e+04</td>\n",
       "      <td>1.000000e+04</td>\n",
       "      <td>1.000000e+04</td>\n",
       "      <td>1.000000e+04</td>\n",
       "      <td>1.000000e+04</td>\n",
       "      <td>1.000000e+04</td>\n",
       "      <td>1.000000e+04</td>\n",
       "      <td>1.000000e+04</td>\n",
       "      <td>1.000000e+04</td>\n",
       "      <td>...</td>\n",
       "      <td>1.000000e+04</td>\n",
       "      <td>1.000000e+04</td>\n",
       "      <td>1.000000e+04</td>\n",
       "      <td>1.000000e+04</td>\n",
       "      <td>1.000000e+04</td>\n",
       "      <td>1.000000e+04</td>\n",
       "      <td>1.000000e+04</td>\n",
       "      <td>1.000000e+04</td>\n",
       "      <td>1.000000e+04</td>\n",
       "      <td>1.000000e+04</td>\n",
       "    </tr>\n",
       "    <tr>\n",
       "      <th>mean</th>\n",
       "      <td>-7.538706e-16</td>\n",
       "      <td>-1.387607e-12</td>\n",
       "      <td>2.182654e-15</td>\n",
       "      <td>2.174896e-15</td>\n",
       "      <td>6.345629e-16</td>\n",
       "      <td>2.475284e-16</td>\n",
       "      <td>7.681432e-16</td>\n",
       "      <td>9.277495e-16</td>\n",
       "      <td>1.858085e-15</td>\n",
       "      <td>-1.302534e-15</td>\n",
       "      <td>...</td>\n",
       "      <td>-2.472023e-16</td>\n",
       "      <td>5.120437e-15</td>\n",
       "      <td>1.205077e-15</td>\n",
       "      <td>-4.271507e-15</td>\n",
       "      <td>-1.985748e-16</td>\n",
       "      <td>-1.484160e-16</td>\n",
       "      <td>-5.174935e-15</td>\n",
       "      <td>-5.021483e-16</td>\n",
       "      <td>2.035969e-15</td>\n",
       "      <td>-1.898753e-15</td>\n",
       "    </tr>\n",
       "    <tr>\n",
       "      <th>std</th>\n",
       "      <td>1.000000e+00</td>\n",
       "      <td>1.000000e+00</td>\n",
       "      <td>1.000000e+00</td>\n",
       "      <td>1.000000e+00</td>\n",
       "      <td>1.000000e+00</td>\n",
       "      <td>1.000000e+00</td>\n",
       "      <td>1.000000e+00</td>\n",
       "      <td>1.000000e+00</td>\n",
       "      <td>1.000000e+00</td>\n",
       "      <td>1.000000e+00</td>\n",
       "      <td>...</td>\n",
       "      <td>1.000000e+00</td>\n",
       "      <td>1.000000e+00</td>\n",
       "      <td>1.000000e+00</td>\n",
       "      <td>1.000000e+00</td>\n",
       "      <td>1.000000e+00</td>\n",
       "      <td>1.000000e+00</td>\n",
       "      <td>1.000000e+00</td>\n",
       "      <td>1.000000e+00</td>\n",
       "      <td>1.000000e+00</td>\n",
       "      <td>1.000000e+00</td>\n",
       "    </tr>\n",
       "    <tr>\n",
       "      <th>min</th>\n",
       "      <td>-1.076100e+01</td>\n",
       "      <td>-1.464689e+00</td>\n",
       "      <td>-1.670145e-01</td>\n",
       "      <td>-2.450102e-02</td>\n",
       "      <td>-1.000000e-02</td>\n",
       "      <td>-1.000000e-02</td>\n",
       "      <td>-1.414284e-02</td>\n",
       "      <td>-1.732224e-02</td>\n",
       "      <td>-2.450102e-02</td>\n",
       "      <td>-1.414284e-02</td>\n",
       "      <td>...</td>\n",
       "      <td>-1.010051e-01</td>\n",
       "      <td>-7.016862e-02</td>\n",
       "      <td>-1.732224e-02</td>\n",
       "      <td>-4.801116e-02</td>\n",
       "      <td>-1.414284e-02</td>\n",
       "      <td>-4.695349e-02</td>\n",
       "      <td>-8.923066e-02</td>\n",
       "      <td>-1.414284e-02</td>\n",
       "      <td>-1.000000e-02</td>\n",
       "      <td>-4.553796e+00</td>\n",
       "    </tr>\n",
       "    <tr>\n",
       "      <th>25%</th>\n",
       "      <td>-9.466372e-02</td>\n",
       "      <td>-1.145299e+00</td>\n",
       "      <td>-1.198945e-01</td>\n",
       "      <td>-2.450102e-02</td>\n",
       "      <td>-1.000000e-02</td>\n",
       "      <td>-1.000000e-02</td>\n",
       "      <td>-1.414284e-02</td>\n",
       "      <td>-1.732224e-02</td>\n",
       "      <td>-2.450102e-02</td>\n",
       "      <td>-1.414284e-02</td>\n",
       "      <td>...</td>\n",
       "      <td>-1.010051e-01</td>\n",
       "      <td>-7.016862e-02</td>\n",
       "      <td>-1.732224e-02</td>\n",
       "      <td>-4.801116e-02</td>\n",
       "      <td>-1.414284e-02</td>\n",
       "      <td>-4.695349e-02</td>\n",
       "      <td>-8.923066e-02</td>\n",
       "      <td>-1.414284e-02</td>\n",
       "      <td>-1.000000e-02</td>\n",
       "      <td>2.195751e-01</td>\n",
       "    </tr>\n",
       "    <tr>\n",
       "      <th>50%</th>\n",
       "      <td>-7.423013e-02</td>\n",
       "      <td>-4.012956e-02</td>\n",
       "      <td>-7.013576e-02</td>\n",
       "      <td>-2.450102e-02</td>\n",
       "      <td>-1.000000e-02</td>\n",
       "      <td>-1.000000e-02</td>\n",
       "      <td>-1.414284e-02</td>\n",
       "      <td>-1.732224e-02</td>\n",
       "      <td>-2.450102e-02</td>\n",
       "      <td>-1.414284e-02</td>\n",
       "      <td>...</td>\n",
       "      <td>-1.010051e-01</td>\n",
       "      <td>-7.016862e-02</td>\n",
       "      <td>-1.732224e-02</td>\n",
       "      <td>-4.801116e-02</td>\n",
       "      <td>-1.414284e-02</td>\n",
       "      <td>-4.695349e-02</td>\n",
       "      <td>-8.923066e-02</td>\n",
       "      <td>-1.414284e-02</td>\n",
       "      <td>-1.000000e-02</td>\n",
       "      <td>2.195751e-01</td>\n",
       "    </tr>\n",
       "    <tr>\n",
       "      <th>75%</th>\n",
       "      <td>-2.314615e-02</td>\n",
       "      <td>1.001161e+00</td>\n",
       "      <td>1.958079e-02</td>\n",
       "      <td>-2.450102e-02</td>\n",
       "      <td>-1.000000e-02</td>\n",
       "      <td>-1.000000e-02</td>\n",
       "      <td>-1.414284e-02</td>\n",
       "      <td>-1.732224e-02</td>\n",
       "      <td>-2.450102e-02</td>\n",
       "      <td>-1.414284e-02</td>\n",
       "      <td>...</td>\n",
       "      <td>-1.010051e-01</td>\n",
       "      <td>-7.016862e-02</td>\n",
       "      <td>-1.732224e-02</td>\n",
       "      <td>-4.801116e-02</td>\n",
       "      <td>-1.414284e-02</td>\n",
       "      <td>-4.695349e-02</td>\n",
       "      <td>-8.923066e-02</td>\n",
       "      <td>-1.414284e-02</td>\n",
       "      <td>-1.000000e-02</td>\n",
       "      <td>2.195751e-01</td>\n",
       "    </tr>\n",
       "    <tr>\n",
       "      <th>max</th>\n",
       "      <td>5.285899e+01</td>\n",
       "      <td>1.950868e+00</td>\n",
       "      <td>7.516812e+01</td>\n",
       "      <td>4.081054e+01</td>\n",
       "      <td>9.999000e+01</td>\n",
       "      <td>9.999000e+01</td>\n",
       "      <td>7.070007e+01</td>\n",
       "      <td>5.772348e+01</td>\n",
       "      <td>4.081054e+01</td>\n",
       "      <td>7.070007e+01</td>\n",
       "      <td>...</td>\n",
       "      <td>9.899500e+00</td>\n",
       "      <td>1.424996e+01</td>\n",
       "      <td>5.772348e+01</td>\n",
       "      <td>2.082641e+01</td>\n",
       "      <td>7.070007e+01</td>\n",
       "      <td>2.129554e+01</td>\n",
       "      <td>1.120579e+01</td>\n",
       "      <td>7.070007e+01</td>\n",
       "      <td>9.999000e+01</td>\n",
       "      <td>2.195751e-01</td>\n",
       "    </tr>\n",
       "  </tbody>\n",
       "</table>\n",
       "<p>8 rows × 2468 columns</p>\n",
       "</div>"
      ],
      "text/plain": [
       "           Quantity   InvoiceDate         Price         10002         10080  \\\n",
       "count  1.000000e+04  1.000000e+04  1.000000e+04  1.000000e+04  1.000000e+04   \n",
       "mean  -7.538706e-16 -1.387607e-12  2.182654e-15  2.174896e-15  6.345629e-16   \n",
       "std    1.000000e+00  1.000000e+00  1.000000e+00  1.000000e+00  1.000000e+00   \n",
       "min   -1.076100e+01 -1.464689e+00 -1.670145e-01 -2.450102e-02 -1.000000e-02   \n",
       "25%   -9.466372e-02 -1.145299e+00 -1.198945e-01 -2.450102e-02 -1.000000e-02   \n",
       "50%   -7.423013e-02 -4.012956e-02 -7.013576e-02 -2.450102e-02 -1.000000e-02   \n",
       "75%   -2.314615e-02  1.001161e+00  1.958079e-02 -2.450102e-02 -1.000000e-02   \n",
       "max    5.285899e+01  1.950868e+00  7.516812e+01  4.081054e+01  9.999000e+01   \n",
       "\n",
       "              10109         10120         10125         10133         10134  \\\n",
       "count  1.000000e+04  1.000000e+04  1.000000e+04  1.000000e+04  1.000000e+04   \n",
       "mean   2.475284e-16  7.681432e-16  9.277495e-16  1.858085e-15 -1.302534e-15   \n",
       "std    1.000000e+00  1.000000e+00  1.000000e+00  1.000000e+00  1.000000e+00   \n",
       "min   -1.000000e-02 -1.414284e-02 -1.732224e-02 -2.450102e-02 -1.414284e-02   \n",
       "25%   -1.000000e-02 -1.414284e-02 -1.732224e-02 -2.450102e-02 -1.414284e-02   \n",
       "50%   -1.000000e-02 -1.414284e-02 -1.732224e-02 -2.450102e-02 -1.414284e-02   \n",
       "75%   -1.000000e-02 -1.414284e-02 -1.732224e-02 -2.450102e-02 -1.414284e-02   \n",
       "max    9.999000e+01  7.070007e+01  5.772348e+01  4.081054e+01  7.070007e+01   \n",
       "\n",
       "       ...        France       Germany         Japan   Netherlands  \\\n",
       "count  ...  1.000000e+04  1.000000e+04  1.000000e+04  1.000000e+04   \n",
       "mean   ... -2.472023e-16  5.120437e-15  1.205077e-15 -4.271507e-15   \n",
       "std    ...  1.000000e+00  1.000000e+00  1.000000e+00  1.000000e+00   \n",
       "min    ... -1.010051e-01 -7.016862e-02 -1.732224e-02 -4.801116e-02   \n",
       "25%    ... -1.010051e-01 -7.016862e-02 -1.732224e-02 -4.801116e-02   \n",
       "50%    ... -1.010051e-01 -7.016862e-02 -1.732224e-02 -4.801116e-02   \n",
       "75%    ... -1.010051e-01 -7.016862e-02 -1.732224e-02 -4.801116e-02   \n",
       "max    ...  9.899500e+00  1.424996e+01  5.772348e+01  2.082641e+01   \n",
       "\n",
       "            Nigeria        Poland      Portugal         Spain           USA  \\\n",
       "count  1.000000e+04  1.000000e+04  1.000000e+04  1.000000e+04  1.000000e+04   \n",
       "mean  -1.985748e-16 -1.484160e-16 -5.174935e-15 -5.021483e-16  2.035969e-15   \n",
       "std    1.000000e+00  1.000000e+00  1.000000e+00  1.000000e+00  1.000000e+00   \n",
       "min   -1.414284e-02 -4.695349e-02 -8.923066e-02 -1.414284e-02 -1.000000e-02   \n",
       "25%   -1.414284e-02 -4.695349e-02 -8.923066e-02 -1.414284e-02 -1.000000e-02   \n",
       "50%   -1.414284e-02 -4.695349e-02 -8.923066e-02 -1.414284e-02 -1.000000e-02   \n",
       "75%   -1.414284e-02 -4.695349e-02 -8.923066e-02 -1.414284e-02 -1.000000e-02   \n",
       "max    7.070007e+01  2.129554e+01  1.120579e+01  7.070007e+01  9.999000e+01   \n",
       "\n",
       "       United Kingdom  \n",
       "count    1.000000e+04  \n",
       "mean    -1.898753e-15  \n",
       "std      1.000000e+00  \n",
       "min     -4.553796e+00  \n",
       "25%      2.195751e-01  \n",
       "50%      2.195751e-01  \n",
       "75%      2.195751e-01  \n",
       "max      2.195751e-01  \n",
       "\n",
       "[8 rows x 2468 columns]"
      ]
     },
     "execution_count": 186,
     "metadata": {},
     "output_type": "execute_result"
    }
   ],
   "source": [
    "data_stand.describe()"
   ]
  },
  {
   "cell_type": "markdown",
   "metadata": {},
   "source": [
    "# 6. Разбиение на выборки"
   ]
  },
  {
   "cell_type": "code",
   "execution_count": 187,
   "metadata": {},
   "outputs": [],
   "source": [
    "# Готовим выборки для обучения\n",
    "X = data_stand.drop('Invoice', axis = 1)\n",
    "y = data_stand['Invoice']\n",
    "feature_names = X.columns"
   ]
  },
  {
   "cell_type": "code",
   "execution_count": 188,
   "metadata": {},
   "outputs": [
    {
     "data": {
      "text/plain": [
       "pandas.core.indexes.base.Index"
      ]
     },
     "execution_count": 188,
     "metadata": {},
     "output_type": "execute_result"
    }
   ],
   "source": [
    "type(feature_names)"
   ]
  },
  {
   "cell_type": "code",
   "execution_count": 189,
   "metadata": {},
   "outputs": [
    {
     "data": {
      "text/plain": [
       "Index([      'Quantity',    'InvoiceDate',          'Price',            10002,\n",
       "                  10080,            10109,            10120,            10125,\n",
       "                  10133,            10134,\n",
       "       ...\n",
       "               'France',        'Germany',          'Japan',    'Netherlands',\n",
       "              'Nigeria',         'Poland',       'Portugal',          'Spain',\n",
       "                  'USA', 'United Kingdom'],\n",
       "      dtype='object', length=2468)"
      ]
     },
     "execution_count": 189,
     "metadata": {},
     "output_type": "execute_result"
    }
   ],
   "source": [
    "feature_names"
   ]
  },
  {
   "cell_type": "code",
   "execution_count": 190,
   "metadata": {},
   "outputs": [],
   "source": [
    "X = X.to_numpy()"
   ]
  },
  {
   "cell_type": "code",
   "execution_count": 191,
   "metadata": {},
   "outputs": [],
   "source": [
    "y = np.array(y != -7.4924790862009445, dtype='int')"
   ]
  },
  {
   "cell_type": "code",
   "execution_count": 192,
   "metadata": {},
   "outputs": [
    {
     "data": {
      "text/plain": [
       "array([1, 1, 1, ..., 1, 1, 1])"
      ]
     },
     "execution_count": 192,
     "metadata": {},
     "output_type": "execute_result"
    }
   ],
   "source": [
    "y"
   ]
  },
  {
   "cell_type": "code",
   "execution_count": 193,
   "metadata": {},
   "outputs": [
    {
     "name": "stdout",
     "output_type": "stream",
     "text": [
      "7000 3000\n"
     ]
    }
   ],
   "source": [
    "from sklearn.model_selection import train_test_split\n",
    "X_train, X_test, y_train, y_test = train_test_split(X, y, test_size = 0.3, random_state = 42)\n",
    "\n",
    "N_train, _ = X_train.shape \n",
    "N_test,  _ = X_test.shape \n",
    "\n",
    "print(N_train, N_test)"
   ]
  },
  {
   "cell_type": "markdown",
   "metadata": {},
   "source": [
    "# 7.1. Классификатор ближайших соседей"
   ]
  },
  {
   "cell_type": "code",
   "execution_count": 194,
   "metadata": {},
   "outputs": [
    {
     "data": {
      "text/plain": [
       "KNeighborsClassifier(n_jobs=-1, n_neighbors=10)"
      ]
     },
     "execution_count": 194,
     "metadata": {},
     "output_type": "execute_result"
    }
   ],
   "source": [
    "from sklearn.neighbors import KNeighborsClassifier\n",
    "\n",
    "knn = KNeighborsClassifier(n_neighbors = 10, n_jobs = -1)\n",
    "knn.fit(X_train, y_train)"
   ]
  },
  {
   "cell_type": "code",
   "execution_count": 195,
   "metadata": {},
   "outputs": [
    {
     "name": "stdout",
     "output_type": "stream",
     "text": [
      "0.01657142857142857 0.017333333333333333\n"
     ]
    }
   ],
   "source": [
    "y_train_predict = knn.predict(X_train)\n",
    "y_test_predict = knn.predict(X_test)\n",
    "\n",
    "err_train = np.mean(y_train != y_train_predict)\n",
    "err_test  = np.mean(y_test  != y_test_predict)\n",
    "\n",
    "print(err_train, err_test)"
   ]
  },
  {
   "cell_type": "markdown",
   "metadata": {},
   "source": [
    "По результатам можно сказать, ошибки довольно небольшие и есть небольшое переобучение."
   ]
  },
  {
   "cell_type": "markdown",
   "metadata": {},
   "source": [
    "# 7.2. Метод ближайших соседей с подгоном параметра"
   ]
  },
  {
   "cell_type": "code",
   "execution_count": 196,
   "metadata": {},
   "outputs": [
    {
     "name": "stdout",
     "output_type": "stream",
     "text": [
      "0.016142857142857125 3\n"
     ]
    }
   ],
   "source": [
    "from sklearn.model_selection import GridSearchCV\n",
    "nnb = [1, 3, 5, 11, 15, 20, 25, 35, 45, 55]\n",
    "knn = KNeighborsClassifier(algorithm = 'kd_tree',n_jobs = -1)\n",
    "grid = GridSearchCV(knn, param_grid = {'n_neighbors': nnb}, cv=10, n_jobs = -1)\n",
    "grid.fit(X_train, y_train)\n",
    "\n",
    "best_cv_err = 1 - grid.best_score_\n",
    "best_n_neighbors = grid.best_estimator_.n_neighbors\n",
    "print(best_cv_err, best_n_neighbors)"
   ]
  },
  {
   "cell_type": "code",
   "execution_count": 197,
   "metadata": {},
   "outputs": [
    {
     "name": "stdout",
     "output_type": "stream",
     "text": [
      "0.012571428571428572 0.017\n"
     ]
    }
   ],
   "source": [
    "knn = KNeighborsClassifier(n_neighbors = best_n_neighbors).fit(X_train, y_train)\n",
    "\n",
    "err_train = np.mean(y_train != knn.predict(X_train))\n",
    "err_test  = np.mean(y_test  != knn.predict(X_test))\n",
    "\n",
    "print(err_train, err_test)"
   ]
  },
  {
   "cell_type": "markdown",
   "metadata": {},
   "source": [
    "# Выводы:"
   ]
  },
  {
   "cell_type": "markdown",
   "metadata": {},
   "source": [
    "1. И без подбора параметров, и с подбором параметров получились довольно небольшие ошибки.\n",
    "2. В первом случае можно наблюдать небольшое переобучение, на тестовой выборке ошибка больше на 0,0008, чем на обучающей.\n",
    "3. Во втором случае мы нашли более лучший параметр, при котором ошибка на обучающей выборке меньше, чем в первом случае. Однако тут переобучение побольше получается, около 0,0044.\n",
    "4. Было бы замечательно проверить всё на больших объёмах данных, но моя машина не настолько производительная."
   ]
  },
  {
   "cell_type": "markdown",
   "metadata": {},
   "source": [
    "# Лабораторная работа №2"
   ]
  },
  {
   "cell_type": "markdown",
   "metadata": {},
   "source": [
    "# PCA\n",
    "Используем для сокращения размерности до 2."
   ]
  },
  {
   "cell_type": "code",
   "execution_count": 198,
   "metadata": {},
   "outputs": [],
   "source": [
    "from sklearn.decomposition import PCA\n",
    "\n",
    "pca = PCA(n_components = 2)\n",
    "X_PCA = pca.fit_transform(X)"
   ]
  },
  {
   "cell_type": "code",
   "execution_count": 199,
   "metadata": {},
   "outputs": [
    {
     "data": {
      "text/plain": [
       "array([[-0.2353363 ,  0.85210712],\n",
       "       [-0.25148016,  0.6381338 ],\n",
       "       [-0.22207521,  0.73307659],\n",
       "       ...,\n",
       "       [-0.30899216, -0.5517299 ],\n",
       "       [-0.31924084, -0.81138313],\n",
       "       [-0.77866498, -0.72808072]])"
      ]
     },
     "execution_count": 199,
     "metadata": {},
     "output_type": "execute_result"
    }
   ],
   "source": [
    "X_PCA"
   ]
  },
  {
   "cell_type": "code",
   "execution_count": 200,
   "metadata": {},
   "outputs": [
    {
     "data": {
      "text/plain": [
       "Text(0.5, 1.0, 'Оставшиеся компоненты после РСА')"
      ]
     },
     "execution_count": 200,
     "metadata": {},
     "output_type": "execute_result"
    },
    {
     "data": {
      "image/png": "[encoded data removed]",
      "text/plain": [
       "<Figure size 432x288 with 1 Axes>"
      ]
     },
     "metadata": {
      "needs_background": "light"
     },
     "output_type": "display_data"
    }
   ],
   "source": [
    "plt.scatter(X_PCA[:,0], X_PCA[:,1], alpha = .2)\n",
    "\n",
    "plt.xlabel('c1')\n",
    "plt.ylabel('c2')\n",
    "plt.title('Оставшиеся компоненты после РСА')"
   ]
  },
  {
   "cell_type": "markdown",
   "metadata": {},
   "source": [
    "# LDA\n",
    "Используем для сокращения размерности до 2."
   ]
  },
  {
   "cell_type": "code",
   "execution_count": 201,
   "metadata": {},
   "outputs": [],
   "source": [
    "from sklearn.discriminant_analysis import LinearDiscriminantAnalysis as LDA\n",
    "#т.к. у меня всего два класса, а по требованию: n_components cannot be larger than min(n_features, n_classes - 1)\n",
    "#то n_components < 2, поэтому n_components=1\n",
    "lda = LDA(n_components=1)\n",
    "X_LDA = lda.fit_transform(X, y)"
   ]
  },
  {
   "cell_type": "code",
   "execution_count": 202,
   "metadata": {},
   "outputs": [
    {
     "data": {
      "text/plain": [
       "array([[ 0.47110485],\n",
       "       [ 0.40458174],\n",
       "       [-0.12024649],\n",
       "       ...,\n",
       "       [ 0.19987114],\n",
       "       [ 0.29431053],\n",
       "       [ 0.2297397 ]])"
      ]
     },
     "execution_count": 202,
     "metadata": {},
     "output_type": "execute_result"
    }
   ],
   "source": [
    "X_LDA"
   ]
  },
  {
   "cell_type": "markdown",
   "metadata": {},
   "source": [
    "Вернемся к PCA..."
   ]
  },
  {
   "cell_type": "markdown",
   "metadata": {},
   "source": [
    "# Используем kNN (k = 3)"
   ]
  },
  {
   "cell_type": "code",
   "execution_count": 203,
   "metadata": {},
   "outputs": [
    {
     "name": "stdout",
     "output_type": "stream",
     "text": [
      "7000 3000\n"
     ]
    }
   ],
   "source": [
    "from sklearn.model_selection import train_test_split\n",
    "X_train, X_test, y_train, y_test = train_test_split(X_PCA, y, test_size = 0.3, random_state = 42)\n",
    "\n",
    "N_train, _ = X_train.shape \n",
    "N_test,  _ = X_test.shape \n",
    "\n",
    "print(N_train, N_test)"
   ]
  },
  {
   "cell_type": "code",
   "execution_count": 204,
   "metadata": {},
   "outputs": [
    {
     "name": "stdout",
     "output_type": "stream",
     "text": [
      "Train error: 0.013714285714285714\n",
      "Test error: 0.02\n"
     ]
    }
   ],
   "source": [
    "from sklearn.neighbors import KNeighborsClassifier\n",
    "knn = KNeighborsClassifier(n_neighbors = 3).fit(X_train, y_train)\n",
    "\n",
    "err_train = np.mean(y_train != knn.predict(X_train))\n",
    "err_test  = np.mean(y_test  != knn.predict(X_test))\n",
    "\n",
    "print(\"Train error: \" + str(err_train)) \n",
    "print(\"Test error: \" + str(err_test))"
   ]
  },
  {
   "cell_type": "markdown",
   "metadata": {},
   "source": [
    "Из прошлой лабы мы определили лучший метод kNN с 3 соседями. Поэтому применили его снова.\n",
    "В итоге ошибки выросли:\n",
    "\n",
    "на обуч.выборке на 0.001428571428571428, \n",
    "на тестовой - на 0.002666666666666666\n",
    "\n",
    "Чтобы построить графики зависимости ошибки на выборках от количества главных компонент, необходимо посмотреть на результаты при разном количестве главных компонент."
   ]
  },
  {
   "cell_type": "code",
   "execution_count": 206,
   "metadata": {},
   "outputs": [
    {
     "name": "stdout",
     "output_type": "stream",
     "text": [
      "Минимальное значение ошибки на обучающей выборке= 0.008714285714285714 при кол-ве компонент: 12\n",
      "Минимальное значение ошибки на тестовой выборке= 0.01633333333333333 при кол-ве компонент: 5\n"
     ]
    },
    {
     "data": {
      "image/png": "[encoded data removed]",
      "text/plain": [
       "<Figure size 432x288 with 1 Axes>"
      ]
     },
     "metadata": {
      "needs_background": "light"
     },
     "output_type": "display_data"
    }
   ],
   "source": [
    "comp = range(1, 15, 1)\n",
    "err_train_massiv = []\n",
    "err_test_massiv = []\n",
    "for i in comp:\n",
    "    pca = PCA(n_components = i)\n",
    "    X_PCA = pca.fit_transform(X)\n",
    "    X_train, X_test, y_train, y_test = train_test_split(X_PCA, y, test_size = 0.3, random_state = 42)\n",
    "    knn = KNeighborsClassifier(n_neighbors = 3).fit(X_train, y_train)\n",
    "    err_train_massiv.append(np.mean(knn.predict(X_train) != y_train))\n",
    "    err_test_massiv.append(np.mean(knn.predict(X_test) != y_test))\n",
    "plt.plot(comp, err_train_massiv, 'r-o', label = 'Train error')\n",
    "plt.plot(comp, err_test_massiv,  'b-o', label = 'Test error')    \n",
    "plt.legend(loc = 2)\n",
    "#поиск лучшего количества компонент:\n",
    "min_value_train = err_train_massiv[0]\n",
    "arg_min_value_train = 1\n",
    "min_value_test = err_test_massiv[0]\n",
    "arg_min_value_test = 1\n",
    "for i in range(len(err_train_massiv)):\n",
    "    if (err_train_massiv[i ]< min_value_train):\n",
    "        min_value_train = err_train_massiv[i]\n",
    "        arg_min_value_train = i+1\n",
    "    if (err_test_massiv[i ]< min_value_test):\n",
    "        min_value_test = err_test_massiv[i]\n",
    "        arg_min_value_test = i+1      \n",
    "\n",
    "print(\"Минимальное значение ошибки на обучающей выборке= \" + str(min_value_train) + \" при кол-ве компонент: \" +str(arg_min_value_train))\n",
    "print(\"Минимальное значение ошибки на тестовой выборке= \" + str(min_value_test) + \" при кол-ве компонент: \" +str(arg_min_value_test))"
   ]
  },
  {
   "cell_type": "markdown",
   "metadata": {},
   "source": [
    "У нас в Х много признаков - 2468. Поэтому попробуем более большой шаг в увеличении главных компонент:"
   ]
  },
  {
   "cell_type": "code",
   "execution_count": 207,
   "metadata": {},
   "outputs": [
    {
     "name": "stdout",
     "output_type": "stream",
     "text": [
      "Минимальное значение ошибки на обучающей выборке= 0.008714285714285714 при кол-ве компонент: 151\n",
      "Минимальное значение ошибки на тестовой выборке= 0.016666666666666666 при кол-ве компонент: 51\n"
     ]
    },
    {
     "data": {
      "image/png": "[encoded data removed]",
      "text/plain": [
       "<Figure size 432x288 with 1 Axes>"
      ]
     },
     "metadata": {
      "needs_background": "light"
     },
     "output_type": "display_data"
    }
   ],
   "source": [
    "comp = range(1, 750, 50)\n",
    "err_train_massiv = []\n",
    "err_test_massiv = []\n",
    "for i in comp:\n",
    "    pca = PCA(n_components = i)\n",
    "    X_PCA = pca.fit_transform(X)\n",
    "    X_train, X_test, y_train, y_test = train_test_split(X_PCA, y, test_size = 0.3, random_state = 42)\n",
    "    knn = KNeighborsClassifier(n_neighbors = 3).fit(X_train, y_train)\n",
    "    err_train_massiv.append(np.mean(knn.predict(X_train) != y_train))\n",
    "    err_test_massiv.append(np.mean(knn.predict(X_test) != y_test))\n",
    "    \n",
    "plt.plot(comp, err_train_massiv, 'r-o', label = 'Train error')\n",
    "plt.plot(comp, err_test_massiv,  'b-o', label = 'Test error')    \n",
    "plt.legend(loc = 2)\n",
    "#поиск лучшего количества компонент:\n",
    "min_value_train = err_train_massiv[0]\n",
    "arg_min_value_train = 1\n",
    "min_value_test = err_test_massiv[0]\n",
    "arg_min_value_test = 1\n",
    "for i in range(len(err_train_massiv)):\n",
    "    if (err_train_massiv[i ]< min_value_train):\n",
    "        min_value_train = err_train_massiv[i]\n",
    "        arg_min_value_train = i*50+1\n",
    "    if (err_test_massiv[i ]< min_value_test):\n",
    "        min_value_test = err_test_massiv[i]\n",
    "        arg_min_value_test = i*50+1      \n",
    "\n",
    "print(\"Минимальное значение ошибки на обучающей выборке= \" + str(min_value_train) + \" при кол-ве компонент: \" +str(arg_min_value_train))\n",
    "print(\"Минимальное значение ошибки на тестовой выборке= \" + str(min_value_test) + \" при кол-ве компонент: \" +str(arg_min_value_test))"
   ]
  },
  {
   "cell_type": "markdown",
   "metadata": {},
   "source": [
    "Найдем лучшее количество компонент:"
   ]
  },
  {
   "cell_type": "markdown",
   "metadata": {},
   "source": [
    "Из графиков видно, что минимальная ошибка на обучающей выборке достиается при 12 или 151 компоненте, а минимальная ошибка на тестовой выборке достиается при 5 компонент и чуть выше она при 51 компоненте.\n",
    "При дальнейшем увеличении компонент ошибки на выборках растут."
   ]
  },
  {
   "cell_type": "markdown",
   "metadata": {},
   "source": [
    "# Выводы:"
   ]
  },
  {
   "cell_type": "markdown",
   "metadata": {},
   "source": [
    "До применения метода РСА метод kNN (k=3) сработал с ошибкой\n",
    "\n",
    "на **обучающей выборке = 0.012571428571428572**, а на **тестовой - с ошибкой = 0.017**.\n",
    "\n",
    "А после РСА метод kNN (k=3) сработал с ошибкой \n",
    "\n",
    "на **обучающей выборке = 0.008714285714285714**, а на **тестовой - с ошибкой = 0.01633333333333333**.\n",
    "\n",
    "Таким образом, можно сказать, что РСА не сильно, но улучшил результат на обучающей и тестовой выборках."
   ]
  }
 ],
 "metadata": {
  "celltoolbar": "Raw Cell Format",
  "kernelspec": {
   "display_name": "Python 3",
   "language": "python",
   "name": "python3"
  },
  "language_info": {
   "codemirror_mode": {
    "name": "ipython",
    "version": 3
   },
   "file_extension": ".py",
   "mimetype": "text/x-python",
   "name": "python",
   "nbconvert_exporter": "python",
   "pygments_lexer": "ipython3",
   "version": "3.8.3"
  }
 },
 "nbformat": 4,
 "nbformat_minor": 4
}
